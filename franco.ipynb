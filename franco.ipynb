{
 "cells": [
  {
   "cell_type": "markdown",
   "id": "43f45c21-d3ba-44da-b635-95e8e59f17ae",
   "metadata": {},
   "source": [
    "# Notes x Time"
   ]
  },
  {
   "cell_type": "code",
   "execution_count": 1,
   "id": "fb0d90e5-70fc-400f-82b8-28530cd74f63",
   "metadata": {},
   "outputs": [],
   "source": [
    "from convert_midi import get_midi_data_loader\n",
    "import os"
   ]
  },
  {
   "cell_type": "code",
   "execution_count": 2,
   "id": "85db15c5-dbcb-4d1b-b11b-a85a0cc1754f",
   "metadata": {},
   "outputs": [
    {
     "data": {
      "text/plain": [
       "['classical_music', 'rock_music', 'pop_music']"
      ]
     },
     "execution_count": 2,
     "metadata": {},
     "output_type": "execute_result"
    }
   ],
   "source": [
    "[folder for folder in os.listdir() if folder[-5: ] == 'music']"
   ]
  },
  {
   "cell_type": "markdown",
   "id": "1205d29f-71fb-474a-83fe-35bb2787fb02",
   "metadata": {},
   "source": [
    "# Workspace"
   ]
  },
  {
   "cell_type": "code",
   "execution_count": 3,
   "id": "a15abb0f-02de-4d13-a5dd-b936fb5333ee",
   "metadata": {},
   "outputs": [
    {
     "name": "stdout",
     "output_type": "stream",
     "text": [
      "Batch input shape: torch.Size([1804, 32, 128])\n",
      "Batch target shape: torch.Size([1804, 128])\n",
      "Genre labels: tensor([1, 1, 1,  ..., 1, 1, 1])\n"
     ]
    }
   ],
   "source": [
    "chunk_size = 32\n",
    "batch_size = 4\n",
    "midi_folder_path = 'pop_music'\n",
    "data_loader = get_midi_data_loader(midi_folder_path, batch_size=batch_size, chunk_size=chunk_size)\n",
    "\n",
    "for batch_inputs, batch_targets, genre_labels in data_loader:\n",
    "    print(\"Batch input shape:\", batch_inputs.shape)  # (batch_size * num_chunks, max_time_steps, pitch_range)\n",
    "    print(\"Batch target shape:\", batch_targets.shape)  # (batch_size * num_chunks, pitch_range)\n",
    "    print(\"Genre labels:\", genre_labels)  # A tensor of shape (batch_size * num_chunks), e.g., [0, 1, 2, 1]\n",
    "    break\n"
   ]
  },
  {
   "cell_type": "code",
   "execution_count": 4,
   "id": "67c89e88-b22e-4f53-ab61-f3bbf56c0153",
   "metadata": {},
   "outputs": [
    {
     "name": "stderr",
     "output_type": "stream",
     "text": [
      "/Users/franco/Documents/GitHub/AdvancedAI/venv/lib/python3.9/site-packages/music21/midi/translate.py:863: TranslateWarning: Unable to determine instrument from <music21.midi.MidiEvent SEQUENCE_TRACK_NAME, track=5, channel=None, data=b'Copyright \\xa9 2010 by Bernd Krueger'>; getting generic Instrument\n",
      "  warnings.warn(\n",
      "/Users/franco/Documents/GitHub/AdvancedAI/venv/lib/python3.9/site-packages/music21/midi/translate.py:863: TranslateWarning: Unable to determine instrument from <music21.midi.MidiEvent SEQUENCE_TRACK_NAME, track=4, channel=None, data=b'Copyright \\xa9 2001 by Bernd Kr\\xfcger'>; getting generic Instrument\n",
      "  warnings.warn(\n",
      "/Users/franco/Documents/GitHub/AdvancedAI/venv/lib/python3.9/site-packages/music21/midi/translate.py:863: TranslateWarning: Unable to determine instrument from <music21.midi.MidiEvent SEQUENCE_TRACK_NAME, track=4, channel=None, data=b'Copyright \\xa9 1997 by Bernd Krueger'>; getting generic Instrument\n",
      "  warnings.warn(\n",
      "/Users/franco/Documents/GitHub/AdvancedAI/venv/lib/python3.9/site-packages/music21/midi/translate.py:863: TranslateWarning: Unable to determine instrument from <music21.midi.MidiEvent SEQUENCE_TRACK_NAME, track=4, channel=None, data=b'Copyright \\xa9 2003 by Bernd Krueger'>; getting generic Instrument\n",
      "  warnings.warn(\n"
     ]
    },
    {
     "name": "stdout",
     "output_type": "stream",
     "text": [
      "Batch input shape: torch.Size([2849, 32, 128])\n",
      "Batch target shape: torch.Size([2849, 128])\n",
      "Genre labels: tensor([2, 2, 2,  ..., 2, 2, 2])\n"
     ]
    }
   ],
   "source": [
    "chunk_size = 32\n",
    "batch_size = 4\n",
    "midi_folder_path = 'classical_music'\n",
    "data_loader = get_midi_data_loader(midi_folder_path, batch_size=batch_size, chunk_size=chunk_size)\n",
    "\n",
    "for batch_inputs, batch_targets, genre_labels in data_loader:\n",
    "    print(\"Batch input shape:\", batch_inputs.shape)  # (batch_size * num_chunks, max_time_steps, pitch_range)\n",
    "    print(\"Batch target shape:\", batch_targets.shape)  # (batch_size * num_chunks, pitch_range)\n",
    "    print(\"Genre labels:\", genre_labels)  # A tensor of shape (batch_size * num_chunks), e.g., [0, 1, 2, 1]\n",
    "    break\n"
   ]
  },
  {
   "cell_type": "code",
   "execution_count": 5,
   "id": "4026d949-05d6-4001-b207-083e4156cd48",
   "metadata": {},
   "outputs": [
    {
     "name": "stdout",
     "output_type": "stream",
     "text": [
      "Batch input shape: torch.Size([5966, 32, 128])\n",
      "Batch target shape: torch.Size([5966, 128])\n",
      "Genre labels: tensor([0, 0, 0,  ..., 0, 0, 0])\n"
     ]
    }
   ],
   "source": [
    "chunk_size = 32\n",
    "batch_size = 4\n",
    "midi_folder_path = 'rock_music'\n",
    "data_loader = get_midi_data_loader(midi_folder_path, batch_size=batch_size, chunk_size=chunk_size)\n",
    "\n",
    "for batch_inputs, batch_targets, genre_labels in data_loader:\n",
    "    print(\"Batch input shape:\", batch_inputs.shape)  # (batch_size * num_chunks, max_time_steps, pitch_range)\n",
    "    print(\"Batch target shape:\", batch_targets.shape)  # (batch_size * num_chunks, pitch_range)\n",
    "    print(\"Genre labels:\", genre_labels)  # A tensor of shape (batch_size * num_chunks), e.g., [0, 1, 2, 1]\n",
    "    break\n"
   ]
  },
  {
   "cell_type": "code",
   "execution_count": null,
   "id": "17393fc4-8920-4299-a74c-8eb2f2d51e3b",
   "metadata": {},
   "outputs": [],
   "source": []
  }
 ],
 "metadata": {
  "kernelspec": {
   "display_name": "Python 3 (ipykernel)",
   "language": "python",
   "name": "python3"
  },
  "language_info": {
   "codemirror_mode": {
    "name": "ipython",
    "version": 3
   },
   "file_extension": ".py",
   "mimetype": "text/x-python",
   "name": "python",
   "nbconvert_exporter": "python",
   "pygments_lexer": "ipython3",
   "version": "3.9.20"
  }
 },
 "nbformat": 4,
 "nbformat_minor": 5
}