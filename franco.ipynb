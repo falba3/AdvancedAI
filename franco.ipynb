{
 "cells": [
  {
   "cell_type": "markdown",
   "id": "43f45c21-d3ba-44da-b635-95e8e59f17ae",
   "metadata": {},
   "source": [
    "# Notes x Time"
   ]
  },
  {
   "cell_type": "code",
   "execution_count": 2,
   "id": "fb0d90e5-70fc-400f-82b8-28530cd74f63",
   "metadata": {},
   "outputs": [],
   "source": [
    "from convert_midi import get_midi_data_loader\n",
    "import os"
   ]
  },
  {
   "cell_type": "code",
   "execution_count": 21,
   "id": "85db15c5-dbcb-4d1b-b11b-a85a0cc1754f",
   "metadata": {},
   "outputs": [
    {
     "data": {
      "text/plain": [
       "['classical_music', 'rock_music', 'pop_music']"
      ]
     },
     "execution_count": 21,
     "metadata": {},
     "output_type": "execute_result"
    }
   ],
   "source": [
    "[folder for folder in os.listdir() if folder[-5: ] == 'music']"
   ]
  },
  {
   "cell_type": "markdown",
   "id": "1205d29f-71fb-474a-83fe-35bb2787fb02",
   "metadata": {},
   "source": [
    "# Workspace"
   ]
  },
  {
   "cell_type": "code",
   "execution_count": 17,
   "id": "a15abb0f-02de-4d13-a5dd-b936fb5333ee",
   "metadata": {},
   "outputs": [
    {
     "name": "stdout",
     "output_type": "stream",
     "text": [
      "Batch input shape: torch.Size([1236, 32, 128])\n",
      "Batch target shape: torch.Size([1236, 128])\n"
     ]
    }
   ],
   "source": [
    "chunk_size = 32\n",
    "batch_size = 4\n",
    "midi_folder_path = 'pop_music'\n",
    "data_loader = get_midi_data_loader(midi_folder_path, batch_size=batch_size, chunk_size=chunk_size)\n",
    "\n",
    "for batch_inputs, batch_targets in data_loader:\n",
    "    print(\"Batch input shape:\", batch_inputs.shape)  # Expected shape: (batch_size * num_chunks, max_time_steps, pitch_range)\n",
    "    print(\"Batch target shape:\", batch_targets.shape)  # Expected shape: (batch_size * num_chunks, pitch_range)\n",
    "    break\n"
   ]
  },
  {
   "cell_type": "code",
   "execution_count": 19,
   "id": "67c89e88-b22e-4f53-ab61-f3bbf56c0153",
   "metadata": {},
   "outputs": [
    {
     "name": "stderr",
     "output_type": "stream",
     "text": [
      "/Users/franco/Documents/GitHub/AdvancedAI/venv/lib/python3.9/site-packages/music21/midi/translate.py:863: TranslateWarning: Unable to determine instrument from <music21.midi.MidiEvent SEQUENCE_TRACK_NAME, track=4, channel=None, data=b'Copyright \\xa9 1998 by Bernd Krueger'>; getting generic Instrument\n",
      "  warnings.warn(\n",
      "/Users/franco/Documents/GitHub/AdvancedAI/venv/lib/python3.9/site-packages/music21/midi/translate.py:863: TranslateWarning: Unable to determine instrument from <music21.midi.MidiEvent SEQUENCE_TRACK_NAME, track=0, channel=None, data=b'V\\xf6glein Op 43, No. 4'>; getting generic Instrument\n",
      "  warnings.warn(\n",
      "/Users/franco/Documents/GitHub/AdvancedAI/venv/lib/python3.9/site-packages/music21/midi/translate.py:863: TranslateWarning: Unable to determine instrument from <music21.midi.MidiEvent SEQUENCE_TRACK_NAME, track=3, channel=None, data=b'Grieg: V\\xf6glein, Op. 43 No. 4'>; getting generic Instrument\n",
      "  warnings.warn(\n",
      "/Users/franco/Documents/GitHub/AdvancedAI/venv/lib/python3.9/site-packages/music21/midi/translate.py:863: TranslateWarning: Unable to determine instrument from <music21.midi.MidiEvent SEQUENCE_TRACK_NAME, track=5, channel=None, data=b'Copyright \\xa9 2007 by Bernd Krueger'>; getting generic Instrument\n",
      "  warnings.warn(\n",
      "/Users/franco/Documents/GitHub/AdvancedAI/venv/lib/python3.9/site-packages/music21/midi/translate.py:863: TranslateWarning: Unable to determine instrument from <music21.midi.MidiEvent SEQUENCE_TRACK_NAME, track=5, channel=None, data=b'Copyright \\xa9 2010 by Bernd Krueger'>; getting generic Instrument\n",
      "  warnings.warn(\n"
     ]
    },
    {
     "name": "stdout",
     "output_type": "stream",
     "text": [
      "Batch input shape: torch.Size([6175, 32, 128])\n",
      "Batch target shape: torch.Size([6175, 128])\n"
     ]
    }
   ],
   "source": [
    "chunk_size = 32\n",
    "batch_size = 4\n",
    "midi_folder_path = 'classical_music'\n",
    "data_loader = get_midi_data_loader(midi_folder_path, batch_size=batch_size, chunk_size=chunk_size)\n",
    "\n",
    "for batch_inputs, batch_targets in data_loader:\n",
    "    print(\"Batch input shape:\", batch_inputs.shape)  # Expected shape: (batch_size * num_chunks, max_time_steps, pitch_range)\n",
    "    print(\"Batch target shape:\", batch_targets.shape)  # Expected shape: (batch_size * num_chunks, pitch_range)\n",
    "    break\n"
   ]
  },
  {
   "cell_type": "code",
   "execution_count": 22,
   "id": "4026d949-05d6-4001-b207-083e4156cd48",
   "metadata": {},
   "outputs": [
    {
     "name": "stdout",
     "output_type": "stream",
     "text": [
      "Batch input shape: torch.Size([5815, 32, 128])\n",
      "Batch target shape: torch.Size([5815, 128])\n"
     ]
    }
   ],
   "source": [
    "chunk_size = 32\n",
    "batch_size = 4\n",
    "midi_folder_path = 'rock_music'\n",
    "data_loader = get_midi_data_loader(midi_folder_path, batch_size=batch_size, chunk_size=chunk_size)\n",
    "\n",
    "for batch_inputs, batch_targets in data_loader:\n",
    "    print(\"Batch input shape:\", batch_inputs.shape)  # Expected shape: (batch_size * num_chunks, max_time_steps, pitch_range)\n",
    "    print(\"Batch target shape:\", batch_targets.shape)  # Expected shape: (batch_size * num_chunks, pitch_range)\n",
    "    break\n"
   ]
  },
  {
   "cell_type": "code",
   "execution_count": null,
   "id": "17393fc4-8920-4299-a74c-8eb2f2d51e3b",
   "metadata": {},
   "outputs": [],
   "source": []
  }
 ],
 "metadata": {
  "kernelspec": {
   "display_name": "Python 3 (ipykernel)",
   "language": "python",
   "name": "python3"
  },
  "language_info": {
   "codemirror_mode": {
    "name": "ipython",
    "version": 3
   },
   "file_extension": ".py",
   "mimetype": "text/x-python",
   "name": "python",
   "nbconvert_exporter": "python",
   "pygments_lexer": "ipython3",
   "version": "3.9.20"
  }
 },
 "nbformat": 4,
 "nbformat_minor": 5
}