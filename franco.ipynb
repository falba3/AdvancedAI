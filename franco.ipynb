{
 "cells": [
  {
   "cell_type": "markdown",
   "id": "43f45c21-d3ba-44da-b635-95e8e59f17ae",
   "metadata": {},
   "source": [
    "# Notes x Time"
   ]
  },
  {
   "cell_type": "code",
   "execution_count": 2,
   "id": "fb0d90e5-70fc-400f-82b8-28530cd74f63",
   "metadata": {},
   "outputs": [],
   "source": [
    "from convert_midi import get_midi_data_loader\n",
    "import os"
   ]
  },
  {
   "cell_type": "code",
   "execution_count": 8,
   "id": "a15abb0f-02de-4d13-a5dd-b936fb5333ee",
   "metadata": {},
   "outputs": [
    {
     "name": "stdout",
     "output_type": "stream",
     "text": [
      "Batch input shape: torch.Size([1020, 32, 128])\n",
      "Batch target shape: torch.Size([1020, 128])\n"
     ]
    }
   ],
   "source": [
    "chunk_size = 32\n",
    "batch_size = 4\n",
    "midi_folder_path = 'pop_music'\n",
    "data_loader = get_midi_data_loader(midi_folder_path, batch_size=batch_size, chunk_size=chunk_size)\n",
    "\n",
    "for batch_inputs, batch_targets in data_loader:\n",
    "    print(\"Batch input shape:\", batch_inputs.shape)  # Expected shape: (batch_size * num_chunks, max_time_steps, pitch_range)\n",
    "    print(\"Batch target shape:\", batch_targets.shape)  # Expected shape: (batch_size * num_chunks, pitch_range)\n",
    "    break\n"
   ]
  },
  {
   "cell_type": "code",
   "execution_count": null,
   "id": "420bbad5-c1d0-4e85-aa6a-41396fae848e",
   "metadata": {},
   "outputs": [],
   "source": []
  }
 ],
 "metadata": {
  "kernelspec": {
   "display_name": "Python 3 (ipykernel)",
   "language": "python",
   "name": "python3"
  },
  "language_info": {
   "codemirror_mode": {
    "name": "ipython",
    "version": 3
   },
   "file_extension": ".py",
   "mimetype": "text/x-python",
   "name": "python",
   "nbconvert_exporter": "python",
   "pygments_lexer": "ipython3",
   "version": "3.9.20"
  }
 },
 "nbformat": 4,
 "nbformat_minor": 5
}