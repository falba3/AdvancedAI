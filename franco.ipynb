{
 "cells": [
  {
   "cell_type": "markdown",
   "id": "43f45c21-d3ba-44da-b635-95e8e59f17ae",
   "metadata": {},
   "source": [
    "# Notes x Time"
   ]
  },
  {
   "cell_type": "code",
   "execution_count": 3,
   "id": "fb0d90e5-70fc-400f-82b8-28530cd74f63",
   "metadata": {},
   "outputs": [],
   "source": [
    "from convert_midi import midi_folder_to_tensors\n",
    "import os"
   ]
  },
  {
   "cell_type": "code",
   "execution_count": 5,
   "id": "041f17b8-2f88-43b3-9df1-d9e7040966c7",
   "metadata": {},
   "outputs": [
    {
     "name": "stderr",
     "output_type": "stream",
     "text": [
      "/Users/franco/Documents/GitHub/AdvancedAI/venv/lib/python3.9/site-packages/music21/midi/translate.py:863: TranslateWarning: Unable to determine instrument from <music21.midi.MidiEvent SEQUENCE_TRACK_NAME, track=8, channel=None, data=b'Shawn Mendes, Camila Cabello \\x96 Se\\xf1orita'>; getting generic Instrument\n",
      "  warnings.warn(\n",
      "/Users/franco/Documents/GitHub/AdvancedAI/venv/lib/python3.9/site-packages/music21/midi/translate.py:863: TranslateWarning: Unable to determine instrument from <music21.midi.MidiEvent SEQUENCE_TRACK_NAME, track=7, channel=None, data=b'The Chainsmokers feat. XYL\\xd8 - Setting Fires'>; getting generic Instrument\n",
      "  warnings.warn(\n"
     ]
    }
   ],
   "source": [
    "pop_tensors = midi_folder_to_tensors('pop_music')"
   ]
  },
  {
   "cell_type": "code",
   "execution_count": 13,
   "id": "293fd4c8-4be7-49d7-837d-5fad139ccfdc",
   "metadata": {},
   "outputs": [
    {
     "name": "stdout",
     "output_type": "stream",
     "text": [
      "torch.Size([145, 128])\n",
      "torch.Size([561, 128])\n",
      "torch.Size([273, 128])\n",
      "torch.Size([145, 128])\n",
      "torch.Size([801, 128])\n",
      "torch.Size([273, 128])\n",
      "torch.Size([273, 128])\n",
      "torch.Size([593, 128])\n",
      "torch.Size([657, 128])\n",
      "torch.Size([401, 128])\n",
      "torch.Size([273, 128])\n",
      "torch.Size([401, 128])\n",
      "torch.Size([273, 128])\n",
      "torch.Size([1505, 128])\n",
      "torch.Size([273, 128])\n",
      "torch.Size([433, 128])\n",
      "torch.Size([273, 128])\n",
      "torch.Size([273, 128])\n",
      "torch.Size([273, 128])\n",
      "torch.Size([1185, 128])\n",
      "torch.Size([289, 128])\n",
      "torch.Size([289, 128])\n",
      "torch.Size([273, 128])\n",
      "torch.Size([433, 128])\n",
      "torch.Size([289, 128])\n",
      "torch.Size([705, 128])\n",
      "torch.Size([593, 128])\n",
      "torch.Size([273, 128])\n",
      "torch.Size([289, 128])\n",
      "torch.Size([465, 128])\n",
      "torch.Size([465, 128])\n",
      "torch.Size([721, 128])\n",
      "torch.Size([297, 128])\n",
      "torch.Size([273, 128])\n",
      "torch.Size([305, 128])\n",
      "torch.Size([737, 128])\n",
      "torch.Size([257, 128])\n",
      "torch.Size([433, 128])\n",
      "torch.Size([529, 128])\n",
      "torch.Size([993, 128])\n",
      "torch.Size([273, 128])\n",
      "torch.Size([273, 128])\n",
      "torch.Size([897, 128])\n",
      "torch.Size([465, 128])\n",
      "torch.Size([257, 128])\n",
      "torch.Size([273, 128])\n",
      "torch.Size([161, 128])\n",
      "torch.Size([369, 128])\n",
      "torch.Size([497, 128])\n",
      "torch.Size([529, 128])\n"
     ]
    }
   ],
   "source": []
  },
  {
   "cell_type": "code",
   "execution_count": null,
   "id": "130d59ac-4a43-48cf-aa9e-6d9ced84f039",
   "metadata": {},
   "outputs": [],
   "source": []
  }
 ],
 "metadata": {
  "kernelspec": {
   "display_name": "Python 3 (ipykernel)",
   "language": "python",
   "name": "python3"
  },
  "language_info": {
   "codemirror_mode": {
    "name": "ipython",
    "version": 3
   },
   "file_extension": ".py",
   "mimetype": "text/x-python",
   "name": "python",
   "nbconvert_exporter": "python",
   "pygments_lexer": "ipython3",
   "version": "3.9.20"
  }
 },
 "nbformat": 4,
 "nbformat_minor": 5
}