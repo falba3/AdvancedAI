{
 "cells": [
  {
   "cell_type": "code",
   "execution_count": 1,
   "id": "8e5b1a72-564c-452a-93c0-bf070b0fb36b",
   "metadata": {},
   "outputs": [],
   "source": [
    "from convert_midi import midi_folder_2_tensors as mt\n",
    "import os"
   ]
  },
  {
   "cell_type": "code",
   "execution_count": 2,
   "id": "bfa4ae8e-dd69-457c-a0bc-0afeec5af568",
   "metadata": {},
   "outputs": [
    {
     "data": {
      "text/plain": [
       "['classical_music', 'rock_music', 'pop_music']"
      ]
     },
     "execution_count": 2,
     "metadata": {},
     "output_type": "execute_result"
    }
   ],
   "source": [
    "[file for file in os.listdir() if file[-5:] == 'music']"
   ]
  },
  {
   "cell_type": "markdown",
   "id": "93481064-3e68-4c81-a812-7ece56af5a57",
   "metadata": {
    "jp-MarkdownHeadingCollapsed": true
   },
   "source": [
    "# Rock"
   ]
  },
  {
   "cell_type": "code",
   "execution_count": 8,
   "id": "b5c397ad-8d18-4a2d-9491-a1e9f9a1126f",
   "metadata": {},
   "outputs": [],
   "source": [
    "results = mt('rock_music')\n",
    "rock_tensors = results['rock_music']"
   ]
  },
  {
   "cell_type": "code",
   "execution_count": 11,
   "id": "1d104b4b-ed13-4f38-be91-a09071847a9a",
   "metadata": {},
   "outputs": [
    {
     "data": {
      "text/plain": [
       "torch.Size([162, 128, 100])"
      ]
     },
     "execution_count": 11,
     "metadata": {},
     "output_type": "execute_result"
    }
   ],
   "source": [
    "rock_tensors[0].shape"
   ]
  },
  {
   "cell_type": "code",
   "execution_count": 12,
   "id": "f02f813d-eb35-481b-8472-26fd63c665da",
   "metadata": {},
   "outputs": [
    {
     "name": "stdout",
     "output_type": "stream",
     "text": [
      "torch.Size([162, 128, 100])\n",
      "torch.Size([239, 128, 100])\n",
      "torch.Size([307, 128, 100])\n",
      "torch.Size([179, 128, 100])\n",
      "torch.Size([173, 128, 100])\n",
      "torch.Size([92, 128, 100])\n",
      "torch.Size([270, 128, 100])\n",
      "torch.Size([157, 128, 100])\n"
     ]
    }
   ],
   "source": [
    "for tensor in rock_tensors:\n",
    "    print(tensor.shape)"
   ]
  },
  {
   "cell_type": "markdown",
   "id": "c110b464-3649-4587-b917-69a77a3b7d05",
   "metadata": {
    "jp-MarkdownHeadingCollapsed": true
   },
   "source": [
    "# Pop"
   ]
  },
  {
   "cell_type": "code",
   "execution_count": 13,
   "id": "3649797d-20a6-4714-84a1-7d3a084567ec",
   "metadata": {},
   "outputs": [
    {
     "name": "stderr",
     "output_type": "stream",
     "text": [
      "/Users/franco/Documents/GitHub/AdvancedAI/venv/lib/python3.9/site-packages/pretty_midi/pretty_midi.py:100: RuntimeWarning: Tempo, Key or Time signature change events found on non-zero tracks.  This is not a valid type 0 or type 1 MIDI file.  Tempo, Key or Time Signature may be wrong.\n",
      "  warnings.warn(\n"
     ]
    }
   ],
   "source": [
    "results = mt('pop_music')\n",
    "pop_tensors = results['pop_music']"
   ]
  },
  {
   "cell_type": "code",
   "execution_count": 14,
   "id": "ee29cab7-364d-47c6-8ffa-e14970186d77",
   "metadata": {},
   "outputs": [
    {
     "name": "stdout",
     "output_type": "stream",
     "text": [
      "torch.Size([17, 128, 100])\n",
      "torch.Size([68, 128, 100])\n",
      "torch.Size([33, 128, 100])\n",
      "torch.Size([17, 128, 100])\n",
      "torch.Size([99, 128, 100])\n",
      "torch.Size([33, 128, 100])\n",
      "torch.Size([33, 128, 100])\n",
      "torch.Size([73, 128, 100])\n",
      "torch.Size([81, 128, 100])\n",
      "torch.Size([49, 128, 100])\n",
      "torch.Size([33, 128, 100])\n",
      "torch.Size([49, 128, 100])\n",
      "torch.Size([33, 128, 100])\n",
      "torch.Size([186, 128, 100])\n",
      "torch.Size([33, 128, 100])\n",
      "torch.Size([50, 128, 100])\n",
      "torch.Size([33, 128, 100])\n",
      "torch.Size([33, 128, 100])\n",
      "torch.Size([33, 128, 100])\n",
      "torch.Size([147, 128, 100])\n",
      "torch.Size([35, 128, 100])\n",
      "torch.Size([35, 128, 100])\n",
      "torch.Size([33, 128, 100])\n",
      "torch.Size([50, 128, 100])\n",
      "torch.Size([35, 128, 100])\n",
      "torch.Size([88, 128, 100])\n",
      "torch.Size([73, 128, 100])\n",
      "torch.Size([33, 128, 100])\n",
      "torch.Size([34, 128, 100])\n",
      "torch.Size([57, 128, 100])\n",
      "torch.Size([57, 128, 100])\n",
      "torch.Size([81, 128, 100])\n",
      "torch.Size([34, 128, 100])\n",
      "torch.Size([33, 128, 100])\n",
      "torch.Size([37, 128, 100])\n",
      "torch.Size([90, 128, 100])\n",
      "torch.Size([31, 128, 100])\n",
      "torch.Size([52, 128, 100])\n",
      "torch.Size([65, 128, 100])\n",
      "torch.Size([123, 128, 100])\n",
      "torch.Size([33, 128, 100])\n",
      "torch.Size([33, 128, 100])\n",
      "torch.Size([111, 128, 100])\n",
      "torch.Size([57, 128, 100])\n",
      "torch.Size([32, 128, 100])\n",
      "torch.Size([33, 128, 100])\n",
      "torch.Size([19, 128, 100])\n",
      "torch.Size([45, 128, 100])\n",
      "torch.Size([61, 128, 100])\n",
      "torch.Size([65, 128, 100])\n"
     ]
    }
   ],
   "source": [
    "for tensor in pop_tensors:\n",
    "    print(tensor.shape)"
   ]
  },
  {
   "cell_type": "markdown",
   "id": "2f8ec412-cc16-4c80-91b1-0f2022050360",
   "metadata": {
    "jp-MarkdownHeadingCollapsed": true
   },
   "source": [
    "# Classical"
   ]
  },
  {
   "cell_type": "code",
   "execution_count": 16,
   "id": "f9314632-1290-4dee-8952-6062d3fed7de",
   "metadata": {},
   "outputs": [],
   "source": [
    "results = mt('classical_music')\n",
    "classic_tensors = results['classical_music']"
   ]
  },
  {
   "cell_type": "code",
   "execution_count": 17,
   "id": "97bb98b6-1325-4b74-92c6-78c6dd431fb8",
   "metadata": {
    "scrolled": true
   },
   "outputs": [
    {
     "name": "stdout",
     "output_type": "stream",
     "text": [
      "torch.Size([377, 128, 100])\n",
      "torch.Size([189, 128, 100])\n",
      "torch.Size([294, 128, 100])\n",
      "torch.Size([618, 128, 100])\n",
      "torch.Size([267, 128, 100])\n",
      "torch.Size([539, 128, 100])\n",
      "torch.Size([66, 128, 100])\n",
      "torch.Size([159, 128, 100])\n",
      "torch.Size([494, 128, 100])\n",
      "torch.Size([45, 128, 100])\n",
      "torch.Size([125, 128, 100])\n",
      "torch.Size([163, 128, 100])\n",
      "torch.Size([84, 128, 100])\n",
      "torch.Size([86, 128, 100])\n",
      "torch.Size([148, 128, 100])\n",
      "torch.Size([209, 128, 100])\n",
      "torch.Size([87, 128, 100])\n",
      "torch.Size([246, 128, 100])\n",
      "torch.Size([320, 128, 100])\n",
      "torch.Size([110, 128, 100])\n",
      "torch.Size([137, 128, 100])\n",
      "torch.Size([480, 128, 100])\n",
      "torch.Size([136, 128, 100])\n",
      "torch.Size([370, 128, 100])\n",
      "torch.Size([282, 128, 100])\n",
      "torch.Size([495, 128, 100])\n",
      "torch.Size([292, 128, 100])\n",
      "torch.Size([168, 128, 100])\n",
      "torch.Size([104, 128, 100])\n",
      "torch.Size([578, 128, 100])\n",
      "torch.Size([40, 128, 100])\n",
      "torch.Size([306, 128, 100])\n",
      "torch.Size([168, 128, 100])\n",
      "torch.Size([189, 128, 100])\n",
      "torch.Size([49, 128, 100])\n",
      "torch.Size([238, 128, 100])\n",
      "torch.Size([75, 128, 100])\n",
      "torch.Size([161, 128, 100])\n",
      "torch.Size([1321, 128, 100])\n",
      "torch.Size([51, 128, 100])\n",
      "torch.Size([89, 128, 100])\n",
      "torch.Size([83, 128, 100])\n",
      "torch.Size([232, 128, 100])\n",
      "torch.Size([93, 128, 100])\n",
      "torch.Size([40, 128, 100])\n",
      "torch.Size([630, 128, 100])\n",
      "torch.Size([312, 128, 100])\n",
      "torch.Size([122, 128, 100])\n",
      "torch.Size([76, 128, 100])\n",
      "torch.Size([225, 128, 100])\n",
      "torch.Size([99, 128, 100])\n",
      "torch.Size([361, 128, 100])\n",
      "torch.Size([172, 128, 100])\n",
      "torch.Size([80, 128, 100])\n",
      "torch.Size([88, 128, 100])\n",
      "torch.Size([175, 128, 100])\n",
      "torch.Size([309, 128, 100])\n",
      "torch.Size([89, 128, 100])\n",
      "torch.Size([512, 128, 100])\n",
      "torch.Size([270, 128, 100])\n",
      "torch.Size([207, 128, 100])\n",
      "torch.Size([305, 128, 100])\n",
      "torch.Size([188, 128, 100])\n",
      "torch.Size([50, 128, 100])\n",
      "torch.Size([232, 128, 100])\n",
      "torch.Size([106, 128, 100])\n",
      "torch.Size([119, 128, 100])\n",
      "torch.Size([105, 128, 100])\n",
      "torch.Size([57, 128, 100])\n",
      "torch.Size([85, 128, 100])\n",
      "torch.Size([110, 128, 100])\n",
      "torch.Size([121, 128, 100])\n",
      "torch.Size([177, 128, 100])\n",
      "torch.Size([310, 128, 100])\n",
      "torch.Size([81, 128, 100])\n",
      "torch.Size([476, 128, 100])\n",
      "torch.Size([248, 128, 100])\n",
      "torch.Size([147, 128, 100])\n",
      "torch.Size([142, 128, 100])\n",
      "torch.Size([516, 128, 100])\n",
      "torch.Size([237, 128, 100])\n",
      "torch.Size([235, 128, 100])\n",
      "torch.Size([454, 128, 100])\n",
      "torch.Size([82, 128, 100])\n",
      "torch.Size([77, 128, 100])\n",
      "torch.Size([200, 128, 100])\n",
      "torch.Size([420, 128, 100])\n",
      "torch.Size([182, 128, 100])\n",
      "torch.Size([128, 128, 100])\n",
      "torch.Size([392, 128, 100])\n",
      "torch.Size([71, 128, 100])\n",
      "torch.Size([107, 128, 100])\n",
      "torch.Size([388, 128, 100])\n",
      "torch.Size([50, 128, 100])\n",
      "torch.Size([125, 128, 100])\n",
      "torch.Size([1011, 128, 100])\n",
      "torch.Size([96, 128, 100])\n",
      "torch.Size([315, 128, 100])\n",
      "torch.Size([352, 128, 100])\n",
      "torch.Size([394, 128, 100])\n",
      "torch.Size([169, 128, 100])\n",
      "torch.Size([216, 128, 100])\n",
      "torch.Size([142, 128, 100])\n",
      "torch.Size([165, 128, 100])\n",
      "torch.Size([38, 128, 100])\n",
      "torch.Size([461, 128, 100])\n",
      "torch.Size([450, 128, 100])\n",
      "torch.Size([161, 128, 100])\n",
      "torch.Size([75, 128, 100])\n",
      "torch.Size([392, 128, 100])\n",
      "torch.Size([342, 128, 100])\n",
      "torch.Size([391, 128, 100])\n",
      "torch.Size([88, 128, 100])\n",
      "torch.Size([101, 128, 100])\n",
      "torch.Size([179, 128, 100])\n",
      "torch.Size([104, 128, 100])\n",
      "torch.Size([143, 128, 100])\n",
      "torch.Size([270, 128, 100])\n",
      "torch.Size([156, 128, 100])\n",
      "torch.Size([369, 128, 100])\n",
      "torch.Size([136, 128, 100])\n",
      "torch.Size([186, 128, 100])\n",
      "torch.Size([416, 128, 100])\n",
      "torch.Size([151, 128, 100])\n",
      "torch.Size([261, 128, 100])\n",
      "torch.Size([90, 128, 100])\n",
      "torch.Size([589, 128, 100])\n",
      "torch.Size([102, 128, 100])\n",
      "torch.Size([537, 128, 100])\n",
      "torch.Size([263, 128, 100])\n",
      "torch.Size([139, 128, 100])\n",
      "torch.Size([94, 128, 100])\n",
      "torch.Size([155, 128, 100])\n",
      "torch.Size([138, 128, 100])\n",
      "torch.Size([158, 128, 100])\n",
      "torch.Size([48, 128, 100])\n",
      "torch.Size([464, 128, 100])\n",
      "torch.Size([558, 128, 100])\n",
      "torch.Size([42, 128, 100])\n",
      "torch.Size([546, 128, 100])\n",
      "torch.Size([281, 128, 100])\n",
      "torch.Size([112, 128, 100])\n",
      "torch.Size([344, 128, 100])\n",
      "torch.Size([393, 128, 100])\n",
      "torch.Size([336, 128, 100])\n",
      "torch.Size([482, 128, 100])\n",
      "torch.Size([83, 128, 100])\n",
      "torch.Size([63, 128, 100])\n",
      "torch.Size([570, 128, 100])\n",
      "torch.Size([104, 128, 100])\n",
      "torch.Size([160, 128, 100])\n",
      "torch.Size([91, 128, 100])\n",
      "torch.Size([205, 128, 100])\n",
      "torch.Size([61, 128, 100])\n",
      "torch.Size([113, 128, 100])\n",
      "torch.Size([255, 128, 100])\n",
      "torch.Size([80, 128, 100])\n",
      "torch.Size([300, 128, 100])\n",
      "torch.Size([525, 128, 100])\n",
      "torch.Size([111, 128, 100])\n",
      "torch.Size([282, 128, 100])\n",
      "torch.Size([558, 128, 100])\n",
      "torch.Size([294, 128, 100])\n",
      "torch.Size([514, 128, 100])\n",
      "torch.Size([274, 128, 100])\n",
      "torch.Size([381, 128, 100])\n",
      "torch.Size([256, 128, 100])\n",
      "torch.Size([361, 128, 100])\n",
      "torch.Size([351, 128, 100])\n",
      "torch.Size([66, 128, 100])\n",
      "torch.Size([173, 128, 100])\n",
      "torch.Size([163, 128, 100])\n",
      "torch.Size([245, 128, 100])\n",
      "torch.Size([180, 128, 100])\n",
      "torch.Size([56, 128, 100])\n",
      "torch.Size([605, 128, 100])\n",
      "torch.Size([258, 128, 100])\n",
      "torch.Size([410, 128, 100])\n",
      "torch.Size([687, 128, 100])\n",
      "torch.Size([103, 128, 100])\n",
      "torch.Size([304, 128, 100])\n",
      "torch.Size([382, 128, 100])\n",
      "torch.Size([670, 128, 100])\n",
      "torch.Size([216, 128, 100])\n",
      "torch.Size([256, 128, 100])\n",
      "torch.Size([124, 128, 100])\n",
      "torch.Size([124, 128, 100])\n",
      "torch.Size([563, 128, 100])\n",
      "torch.Size([417, 128, 100])\n",
      "torch.Size([341, 128, 100])\n",
      "torch.Size([153, 128, 100])\n",
      "torch.Size([31, 128, 100])\n",
      "torch.Size([77, 128, 100])\n",
      "torch.Size([226, 128, 100])\n",
      "torch.Size([338, 128, 100])\n",
      "torch.Size([365, 128, 100])\n",
      "torch.Size([258, 128, 100])\n",
      "torch.Size([399, 128, 100])\n",
      "torch.Size([142, 128, 100])\n",
      "torch.Size([174, 128, 100])\n",
      "torch.Size([23, 128, 100])\n",
      "torch.Size([137, 128, 100])\n",
      "torch.Size([219, 128, 100])\n",
      "torch.Size([92, 128, 100])\n",
      "torch.Size([242, 128, 100])\n",
      "torch.Size([275, 128, 100])\n",
      "torch.Size([319, 128, 100])\n",
      "torch.Size([195, 128, 100])\n",
      "torch.Size([196, 128, 100])\n",
      "torch.Size([375, 128, 100])\n",
      "torch.Size([248, 128, 100])\n",
      "torch.Size([122, 128, 100])\n",
      "torch.Size([37, 128, 100])\n",
      "torch.Size([303, 128, 100])\n",
      "torch.Size([142, 128, 100])\n",
      "torch.Size([30, 128, 100])\n",
      "torch.Size([126, 128, 100])\n",
      "torch.Size([523, 128, 100])\n",
      "torch.Size([629, 128, 100])\n",
      "torch.Size([189, 128, 100])\n",
      "torch.Size([326, 128, 100])\n",
      "torch.Size([433, 128, 100])\n",
      "torch.Size([747, 128, 100])\n",
      "torch.Size([318, 128, 100])\n",
      "torch.Size([190, 128, 100])\n",
      "torch.Size([830, 128, 100])\n",
      "torch.Size([162, 128, 100])\n",
      "torch.Size([329, 128, 100])\n",
      "torch.Size([171, 128, 100])\n",
      "torch.Size([348, 128, 100])\n",
      "torch.Size([321, 128, 100])\n",
      "torch.Size([278, 128, 100])\n",
      "torch.Size([153, 128, 100])\n",
      "torch.Size([143, 128, 100])\n",
      "torch.Size([186, 128, 100])\n",
      "torch.Size([29, 128, 100])\n",
      "torch.Size([151, 128, 100])\n",
      "torch.Size([90, 128, 100])\n",
      "torch.Size([195, 128, 100])\n",
      "torch.Size([224, 128, 100])\n",
      "torch.Size([286, 128, 100])\n",
      "torch.Size([641, 128, 100])\n",
      "torch.Size([200, 128, 100])\n",
      "torch.Size([239, 128, 100])\n",
      "torch.Size([101, 128, 100])\n",
      "torch.Size([248, 128, 100])\n",
      "torch.Size([56, 128, 100])\n",
      "torch.Size([94, 128, 100])\n",
      "torch.Size([522, 128, 100])\n",
      "torch.Size([182, 128, 100])\n",
      "torch.Size([158, 128, 100])\n",
      "torch.Size([236, 128, 100])\n",
      "torch.Size([124, 128, 100])\n",
      "torch.Size([122, 128, 100])\n",
      "torch.Size([357, 128, 100])\n",
      "torch.Size([143, 128, 100])\n",
      "torch.Size([61, 128, 100])\n",
      "torch.Size([237, 128, 100])\n",
      "torch.Size([347, 128, 100])\n",
      "torch.Size([115, 128, 100])\n",
      "torch.Size([309, 128, 100])\n",
      "torch.Size([259, 128, 100])\n",
      "torch.Size([592, 128, 100])\n",
      "torch.Size([182, 128, 100])\n",
      "torch.Size([159, 128, 100])\n",
      "torch.Size([248, 128, 100])\n",
      "torch.Size([30, 128, 100])\n",
      "torch.Size([159, 128, 100])\n",
      "torch.Size([192, 128, 100])\n",
      "torch.Size([112, 128, 100])\n",
      "torch.Size([189, 128, 100])\n",
      "torch.Size([525, 128, 100])\n",
      "torch.Size([151, 128, 100])\n",
      "torch.Size([282, 128, 100])\n",
      "torch.Size([188, 128, 100])\n",
      "torch.Size([272, 128, 100])\n",
      "torch.Size([239, 128, 100])\n",
      "torch.Size([51, 128, 100])\n",
      "torch.Size([395, 128, 100])\n",
      "torch.Size([253, 128, 100])\n",
      "torch.Size([289, 128, 100])\n",
      "torch.Size([279, 128, 100])\n",
      "torch.Size([760, 128, 100])\n",
      "torch.Size([316, 128, 100])\n",
      "torch.Size([365, 128, 100])\n",
      "torch.Size([76, 128, 100])\n",
      "torch.Size([135, 128, 100])\n",
      "torch.Size([437, 128, 100])\n",
      "torch.Size([144, 128, 100])\n",
      "torch.Size([115, 128, 100])\n",
      "torch.Size([54, 128, 100])\n",
      "torch.Size([27, 128, 100])\n",
      "torch.Size([163, 128, 100])\n",
      "torch.Size([161, 128, 100])\n",
      "torch.Size([94, 128, 100])\n"
     ]
    }
   ],
   "source": [
    "for tensor in classic_tensors:\n",
    "    print(tensor.shape)"
   ]
  },
  {
   "cell_type": "markdown",
   "id": "fe3b65a4-e0b3-4579-818e-7f640a70a338",
   "metadata": {
    "jp-MarkdownHeadingCollapsed": true
   },
   "source": [
    "# Workspace"
   ]
  },
  {
   "cell_type": "code",
   "execution_count": 20,
   "id": "f13d9c03-9664-4479-9993-81e4fa85bf7d",
   "metadata": {},
   "outputs": [],
   "source": [
    "genres = [classic_tensors, pop_tensors, rock_tensors]"
   ]
  },
  {
   "cell_type": "code",
   "execution_count": 21,
   "id": "5891530a-4786-419b-b9f3-5b896d194571",
   "metadata": {},
   "outputs": [],
   "source": [
    "lengths = []\n",
    "for genre in genres:\n",
    "    for tensor in genre:\n",
    "        lengths.append(tensor.shape[0])\n",
    "    "
   ]
  },
  {
   "cell_type": "code",
   "execution_count": 24,
   "id": "d72e1078-a96f-4035-b849-d969856dfe2a",
   "metadata": {},
   "outputs": [
    {
     "data": {
      "text/plain": [
       "1321"
      ]
     },
     "execution_count": 24,
     "metadata": {},
     "output_type": "execute_result"
    }
   ],
   "source": [
    "max(lengths)"
   ]
  },
  {
   "cell_type": "code",
   "execution_count": 25,
   "id": "11b4ed56-9345-42fe-83e2-5be0656d7658",
   "metadata": {},
   "outputs": [
    {
     "data": {
      "text/plain": [
       "17"
      ]
     },
     "execution_count": 25,
     "metadata": {},
     "output_type": "execute_result"
    }
   ],
   "source": [
    "min(lengths)"
   ]
  },
  {
   "cell_type": "code",
   "execution_count": 26,
   "id": "725c7b6a-7eb5-4995-8289-195983548536",
   "metadata": {},
   "outputs": [],
   "source": [
    "import pandas as pd"
   ]
  },
  {
   "cell_type": "code",
   "execution_count": 28,
   "id": "8d44b1d9-a3b7-41bd-9a11-daab50af6793",
   "metadata": {},
   "outputs": [
    {
     "data": {
      "text/plain": [
       "<Axes: >"
      ]
     },
     "execution_count": 28,
     "metadata": {},
     "output_type": "execute_result"
    },
    {
     "data": {
      "image/png": "[encoded data removed]",
      "text/plain": [
       "<Figure size 640x480 with 1 Axes>"
      ]
     },
     "metadata": {},
     "output_type": "display_data"
    }
   ],
   "source": [
    "pd.Series(lengths).hist()"
   ]
  },
  {
   "cell_type": "markdown",
   "id": "39c60946-2716-4fb8-a41d-450cbe23a221",
   "metadata": {},
   "source": [
    "# Notes x Time"
   ]
  },
  {
   "cell_type": "code",
   "execution_count": 34,
   "id": "3ab34ec1-3992-410f-af6d-2333fd0f0d10",
   "metadata": {},
   "outputs": [],
   "source": []
  },
  {
   "cell_type": "code",
   "execution_count": null,
   "id": "2182866a-fb71-4c37-aaa2-c6809d465123",
   "metadata": {},
   "outputs": [],
   "source": []
  },
  {
   "cell_type": "code",
   "execution_count": 36,
   "id": "7ba8ae03-e999-43eb-b28d-cd8098b0b837",
   "metadata": {},
   "outputs": [],
   "source": []
  }
 ],
 "metadata": {
  "kernelspec": {
   "display_name": "Python 3 (ipykernel)",
   "language": "python",
   "name": "python3"
  },
  "language_info": {
   "codemirror_mode": {
    "name": "ipython",
    "version": 3
   },
   "file_extension": ".py",
   "mimetype": "text/x-python",
   "name": "python",
   "nbconvert_exporter": "python",
   "pygments_lexer": "ipython3",
   "version": "3.9.20"
  }
 },
 "nbformat": 4,
 "nbformat_minor": 5
}
