{
 "cells": [
  {
   "cell_type": "markdown",
   "metadata": {
    "collapsed": true,
    "jp-MarkdownHeadingCollapsed": true,
    "jupyter": {
     "outputs_hidden": true
    },
    "pycharm": {
     "name": "#%% md\n"
    }
   },
   "source": [
    "# Setup"
   ]
  },
  {
   "cell_type": "code",
   "execution_count": 1,
   "metadata": {
    "collapsed": false,
    "jupyter": {
     "outputs_hidden": false
    },
    "pycharm": {
     "name": "#%%\n"
    }
   },
   "outputs": [
    {
     "name": "stdout",
     "output_type": "stream",
     "text": [
      "\u001B[33m  DEPRECATION: kaggle is being installed using the legacy 'setup.py install' method, because it does not have a 'pyproject.toml' and the 'wheel' package is not installed. pip 23.1 will enforce this behaviour change. A possible replacement is to enable the '--use-pep517' option. Discussion can be found at https://github.com/pypa/pip/issues/8559\u001B[0m\u001B[33m\n",
      "\u001B[0m\n",
      "\u001B[1m[\u001B[0m\u001B[34;49mnotice\u001B[0m\u001B[1;39;49m]\u001B[0m\u001B[39;49m A new release of pip is available: \u001B[0m\u001B[31;49m23.0.1\u001B[0m\u001B[39;49m -> \u001B[0m\u001B[32;49m24.3.1\u001B[0m\n",
      "\u001B[1m[\u001B[0m\u001B[34;49mnotice\u001B[0m\u001B[1;39;49m]\u001B[0m\u001B[39;49m To update, run: \u001B[0m\u001B[32;49mpip install --upgrade pip\u001B[0m\n"
     ]
    }
   ],
   "source": [
    "!pip install --quiet kaggle mido"
   ]
  },
  {
   "cell_type": "code",
   "execution_count": 2,
   "metadata": {
    "collapsed": false,
    "jupyter": {
     "outputs_hidden": false
    },
    "pycharm": {
     "name": "#%%\n"
    }
   },
   "outputs": [],
   "source": [
    "import mido\n",
    "import os\n",
    "\n",
    "import matplotlib.pyplot as plt\n",
    "import string\n",
    "import numpy as np"
   ]
  },
  {
   "cell_type": "markdown",
   "metadata": {
    "collapsed": false,
    "jp-MarkdownHeadingCollapsed": true,
    "jupyter": {
     "outputs_hidden": false
    },
    "pycharm": {
     "name": "#%% md\n"
    }
   },
   "source": [
    "# Datasets"
   ]
  },
  {
   "cell_type": "code",
   "execution_count": 5,
   "metadata": {
    "scrolled": true
   },
   "outputs": [
    {
     "name": "stdout",
     "output_type": "stream",
     "text": [
      "Dataset URL: https://www.kaggle.com/datasets/kritanjalijain/music-midi-dataset\n",
      "License(s): CC-BY-SA-4.0\n",
      "Downloading music-midi-dataset.zip to /Users/franco/Documents/GitHub/AdvancedAI\n",
      "  0%|                                               | 0.00/55.5k [00:00<?, ?B/s]\n",
      "100%|██████████████████████████████████████| 55.5k/55.5k [00:00<00:00, 12.9MB/s]\n",
      "Archive:  music-midi-dataset.zip\n",
      "  inflating: pop_music/midi_dataset/midi_dataset/x (1).mid  \n",
      "  inflating: pop_music/midi_dataset/midi_dataset/x (10).mid  \n",
      "  inflating: pop_music/midi_dataset/midi_dataset/x (11).mid  \n",
      "  inflating: pop_music/midi_dataset/midi_dataset/x (12).mid  \n",
      "  inflating: pop_music/midi_dataset/midi_dataset/x (13).mid  \n",
      "  inflating: pop_music/midi_dataset/midi_dataset/x (14).mid  \n",
      "  inflating: pop_music/midi_dataset/midi_dataset/x (15).mid  \n",
      "  inflating: pop_music/midi_dataset/midi_dataset/x (16).mid  \n",
      "  inflating: pop_music/midi_dataset/midi_dataset/x (17).mid  \n",
      "  inflating: pop_music/midi_dataset/midi_dataset/x (18).mid  \n",
      "  inflating: pop_music/midi_dataset/midi_dataset/x (19).mid  \n",
      "  inflating: pop_music/midi_dataset/midi_dataset/x (2).mid  \n",
      "  inflating: pop_music/midi_dataset/midi_dataset/x (20).mid  \n",
      "  inflating: pop_music/midi_dataset/midi_dataset/x (21).mid  \n",
      "  inflating: pop_music/midi_dataset/midi_dataset/x (22).mid  \n",
      "  inflating: pop_music/midi_dataset/midi_dataset/x (23).mid  \n",
      "  inflating: pop_music/midi_dataset/midi_dataset/x (24).mid  \n",
      "  inflating: pop_music/midi_dataset/midi_dataset/x (25).mid  \n",
      "  inflating: pop_music/midi_dataset/midi_dataset/x (26).mid  \n",
      "  inflating: pop_music/midi_dataset/midi_dataset/x (27).mid  \n",
      "  inflating: pop_music/midi_dataset/midi_dataset/x (28).mid  \n",
      "  inflating: pop_music/midi_dataset/midi_dataset/x (29).mid  \n",
      "  inflating: pop_music/midi_dataset/midi_dataset/x (3).mid  \n",
      "  inflating: pop_music/midi_dataset/midi_dataset/x (30).mid  \n",
      "  inflating: pop_music/midi_dataset/midi_dataset/x (31).mid  \n",
      "  inflating: pop_music/midi_dataset/midi_dataset/x (32).mid  \n",
      "  inflating: pop_music/midi_dataset/midi_dataset/x (33).mid  \n",
      "  inflating: pop_music/midi_dataset/midi_dataset/x (34).mid  \n",
      "  inflating: pop_music/midi_dataset/midi_dataset/x (35).mid  \n",
      "  inflating: pop_music/midi_dataset/midi_dataset/x (36).mid  \n",
      "  inflating: pop_music/midi_dataset/midi_dataset/x (37).mid  \n",
      "  inflating: pop_music/midi_dataset/midi_dataset/x (38).mid  \n",
      "  inflating: pop_music/midi_dataset/midi_dataset/x (39).mid  \n",
      "  inflating: pop_music/midi_dataset/midi_dataset/x (4).mid  \n",
      "  inflating: pop_music/midi_dataset/midi_dataset/x (40).mid  \n",
      "  inflating: pop_music/midi_dataset/midi_dataset/x (41).mid  \n",
      "  inflating: pop_music/midi_dataset/midi_dataset/x (42).mid  \n",
      "  inflating: pop_music/midi_dataset/midi_dataset/x (43).mid  \n",
      "  inflating: pop_music/midi_dataset/midi_dataset/x (44).mid  \n",
      "  inflating: pop_music/midi_dataset/midi_dataset/x (45).mid  \n",
      "  inflating: pop_music/midi_dataset/midi_dataset/x (46).mid  \n",
      "  inflating: pop_music/midi_dataset/midi_dataset/x (47).mid  \n",
      "  inflating: pop_music/midi_dataset/midi_dataset/x (48).mid  \n",
      "  inflating: pop_music/midi_dataset/midi_dataset/x (49).mid  \n",
      "  inflating: pop_music/midi_dataset/midi_dataset/x (5).mid  \n",
      "  inflating: pop_music/midi_dataset/midi_dataset/x (50).mid  \n",
      "  inflating: pop_music/midi_dataset/midi_dataset/x (6).mid  \n",
      "  inflating: pop_music/midi_dataset/midi_dataset/x (7).mid  \n",
      "  inflating: pop_music/midi_dataset/midi_dataset/x (8).mid  \n",
      "  inflating: pop_music/midi_dataset/midi_dataset/x (9).mid  \n",
      "  inflating: pop_music/x (43).mid    \n"
     ]
    }
   ],
   "source": [
    "# Pop Music\n",
    "!kaggle datasets download kritanjalijain/music-midi-dataset\n",
    "!mkdir -p pop_music\n",
    "!unzip music-midi-dataset.zip -d pop_music\n"
   ]
  },
  {
   "cell_type": "code",
   "execution_count": 6,
   "metadata": {
    "scrolled": true
   },
   "outputs": [
    {
     "name": "stdout",
     "output_type": "stream",
     "text": [
      "Dataset URL: https://www.kaggle.com/datasets/soumikrakshit/classical-music-midi\n",
      "License(s): unknown\n",
      "Downloading classical-music-midi.zip to /Users/franco/Documents/GitHub/AdvancedAI\n",
      "100%|██████████████████████████████████████| 2.33M/2.33M [00:00<00:00, 4.19MB/s]\n",
      "100%|██████████████████████████████████████| 2.33M/2.33M [00:00<00:00, 3.62MB/s]\n",
      "Archive:  classical-music-midi.zip\n",
      "  inflating: classical_music/albeniz/alb_esp1.mid  \n",
      "  inflating: classical_music/albeniz/alb_esp2.mid  \n",
      "  inflating: classical_music/albeniz/alb_esp3.mid  \n",
      "  inflating: classical_music/albeniz/alb_esp4.mid  \n",
      "  inflating: classical_music/albeniz/alb_esp5.mid  \n",
      "  inflating: classical_music/albeniz/alb_esp6.mid  \n",
      "  inflating: classical_music/albeniz/alb_se1.mid  \n",
      "  inflating: classical_music/albeniz/alb_se2.mid  \n",
      "  inflating: classical_music/albeniz/alb_se3.mid  \n",
      "  inflating: classical_music/albeniz/alb_se4.mid  \n",
      "  inflating: classical_music/albeniz/alb_se5.mid  \n",
      "  inflating: classical_music/albeniz/alb_se6.mid  \n",
      "  inflating: classical_music/albeniz/alb_se7.mid  \n",
      "  inflating: classical_music/albeniz/alb_se8.mid  \n",
      "  inflating: classical_music/bach/bach_846.mid  \n",
      "  inflating: classical_music/bach/bach_847.mid  \n",
      "  inflating: classical_music/bach/bach_850.mid  \n",
      "  inflating: classical_music/balakir/islamei.mid  \n",
      "  inflating: classical_music/beeth/appass_1.mid  \n",
      "  inflating: classical_music/beeth/appass_2.mid  \n",
      "  inflating: classical_music/beeth/appass_3.mid  \n",
      "  inflating: classical_music/beeth/beethoven_hammerklavier_1.mid  \n",
      "  inflating: classical_music/beeth/beethoven_hammerklavier_2.mid  \n",
      "  inflating: classical_music/beeth/beethoven_hammerklavier_3.mid  \n",
      "  inflating: classical_music/beeth/beethoven_hammerklavier_4.mid  \n",
      "  inflating: classical_music/beeth/beethoven_les_adieux_1.mid  \n",
      "  inflating: classical_music/beeth/beethoven_les_adieux_2.mid  \n",
      "  inflating: classical_music/beeth/beethoven_les_adieux_3.mid  \n",
      "  inflating: classical_music/beeth/beethoven_opus10_1.mid  \n",
      "  inflating: classical_music/beeth/beethoven_opus10_2.mid  \n",
      "  inflating: classical_music/beeth/beethoven_opus10_3.mid  \n",
      "  inflating: classical_music/beeth/beethoven_opus22_1.mid  \n",
      "  inflating: classical_music/beeth/beethoven_opus22_2.mid  \n",
      "  inflating: classical_music/beeth/beethoven_opus22_3.mid  \n",
      "  inflating: classical_music/beeth/beethoven_opus22_4.mid  \n",
      "  inflating: classical_music/beeth/beethoven_opus90_1.mid  \n",
      "  inflating: classical_music/beeth/beethoven_opus90_2.mid  \n",
      "  inflating: classical_music/beeth/elise.mid  \n",
      "  inflating: classical_music/beeth/mond_1.mid  \n",
      "  inflating: classical_music/beeth/mond_2.mid  \n",
      "  inflating: classical_music/beeth/mond_3.mid  \n",
      "  inflating: classical_music/beeth/pathetique_1.mid  \n",
      "  inflating: classical_music/beeth/pathetique_2.mid  \n",
      "  inflating: classical_music/beeth/pathetique_3.mid  \n",
      "  inflating: classical_music/beeth/waldstein_1.mid  \n",
      "  inflating: classical_music/beeth/waldstein_2.mid  \n",
      "  inflating: classical_music/beeth/waldstein_3.mid  \n",
      "  inflating: classical_music/borodin/bor_ps1.mid  \n",
      "  inflating: classical_music/borodin/bor_ps2.mid  \n",
      "  inflating: classical_music/borodin/bor_ps3.mid  \n",
      "  inflating: classical_music/borodin/bor_ps4.mid  \n",
      "  inflating: classical_music/borodin/bor_ps5.mid  \n",
      "  inflating: classical_music/borodin/bor_ps6.mid  \n",
      "  inflating: classical_music/borodin/bor_ps7.mid  \n",
      "  inflating: classical_music/brahms/BR_IM6.MID  \n",
      "  inflating: classical_music/brahms/br_im2.mid  \n",
      "  inflating: classical_music/brahms/br_im5.mid  \n",
      "  inflating: classical_music/brahms/br_rhap.mid  \n",
      "  inflating: classical_music/brahms/brahms_opus117_1.mid  \n",
      "  inflating: classical_music/brahms/brahms_opus117_2.mid  \n",
      "  inflating: classical_music/brahms/brahms_opus1_1.mid  \n",
      "  inflating: classical_music/brahms/brahms_opus1_2.mid  \n",
      "  inflating: classical_music/brahms/brahms_opus1_3.mid  \n",
      "  inflating: classical_music/brahms/brahms_opus1_4.mid  \n",
      "  inflating: classical_music/burgm/burg_agitato.mid  \n",
      "  inflating: classical_music/burgm/burg_erwachen.mid  \n",
      "  inflating: classical_music/burgm/burg_geschwindigkeit.mid  \n",
      "  inflating: classical_music/burgm/burg_gewitter.mid  \n",
      "  inflating: classical_music/burgm/burg_perlen.mid  \n",
      "  inflating: classical_music/burgm/burg_quelle.mid  \n",
      "  inflating: classical_music/burgm/burg_spinnerlied.mid  \n",
      "  inflating: classical_music/burgm/burg_sylphen.mid  \n",
      "  inflating: classical_music/burgm/burg_trennung.mid  \n",
      "  inflating: classical_music/chopin/chp_op18.mid  \n",
      "  inflating: classical_music/chopin/chp_op31.mid  \n",
      "  inflating: classical_music/chopin/chpn-p1.mid  \n",
      "  inflating: classical_music/chopin/chpn-p10.mid  \n",
      "  inflating: classical_music/chopin/chpn-p11.mid  \n",
      "  inflating: classical_music/chopin/chpn-p12.mid  \n",
      "  inflating: classical_music/chopin/chpn-p13.mid  \n",
      "  inflating: classical_music/chopin/chpn-p14.mid  \n",
      "  inflating: classical_music/chopin/chpn-p15.mid  \n",
      "  inflating: classical_music/chopin/chpn-p16.mid  \n",
      "  inflating: classical_music/chopin/chpn-p17.mid  \n",
      "  inflating: classical_music/chopin/chpn-p18.mid  \n",
      "  inflating: classical_music/chopin/chpn-p19.mid  \n",
      "  inflating: classical_music/chopin/chpn-p2.mid  \n",
      "  inflating: classical_music/chopin/chpn-p20.mid  \n",
      "  inflating: classical_music/chopin/chpn-p21.mid  \n",
      "  inflating: classical_music/chopin/chpn-p22.mid  \n",
      "  inflating: classical_music/chopin/chpn-p23.mid  \n",
      "  inflating: classical_music/chopin/chpn-p24.mid  \n",
      "  inflating: classical_music/chopin/chpn-p3.mid  \n",
      "  inflating: classical_music/chopin/chpn-p4.mid  \n",
      "  inflating: classical_music/chopin/chpn-p5.mid  \n",
      "  inflating: classical_music/chopin/chpn-p6.mid  \n",
      "  inflating: classical_music/chopin/chpn-p7.mid  \n",
      "  inflating: classical_music/chopin/chpn-p8.mid  \n",
      "  inflating: classical_music/chopin/chpn-p9.mid  \n",
      "  inflating: classical_music/chopin/chpn_op10_e01.mid  \n",
      "  inflating: classical_music/chopin/chpn_op10_e05.mid  \n",
      "  inflating: classical_music/chopin/chpn_op10_e12.mid  \n",
      "  inflating: classical_music/chopin/chpn_op23.mid  \n",
      "  inflating: classical_music/chopin/chpn_op25_e1.mid  \n",
      "  inflating: classical_music/chopin/chpn_op25_e11.mid  \n",
      "  inflating: classical_music/chopin/chpn_op25_e12.mid  \n",
      "  inflating: classical_music/chopin/chpn_op25_e2.mid  \n",
      "  inflating: classical_music/chopin/chpn_op25_e3.mid  \n",
      "  inflating: classical_music/chopin/chpn_op25_e4.mid  \n",
      "  inflating: classical_music/chopin/chpn_op27_1.mid  \n",
      "  inflating: classical_music/chopin/chpn_op27_2.mid  \n",
      "  inflating: classical_music/chopin/chpn_op33_2.mid  \n",
      "  inflating: classical_music/chopin/chpn_op33_4.mid  \n",
      "  inflating: classical_music/chopin/chpn_op35_1.mid  \n",
      "  inflating: classical_music/chopin/chpn_op35_2.mid  \n",
      "  inflating: classical_music/chopin/chpn_op35_3.mid  \n",
      "  inflating: classical_music/chopin/chpn_op35_4.mid  \n",
      "  inflating: classical_music/chopin/chpn_op53.mid  \n",
      "  inflating: classical_music/chopin/chpn_op66.mid  \n",
      "  inflating: classical_music/chopin/chpn_op7_1.mid  \n",
      "  inflating: classical_music/chopin/chpn_op7_2.mid  \n",
      "  inflating: classical_music/debussy/DEB_CLAI.MID  \n",
      "  inflating: classical_music/debussy/DEB_PASS.MID  \n",
      "  inflating: classical_music/debussy/deb_menu.mid  \n",
      "  inflating: classical_music/debussy/deb_prel.mid  \n",
      "  inflating: classical_music/debussy/debussy_cc_1.mid  \n",
      "  inflating: classical_music/debussy/debussy_cc_2.mid  \n",
      "  inflating: classical_music/debussy/debussy_cc_3.mid  \n",
      "  inflating: classical_music/debussy/debussy_cc_4.mid  \n",
      "  inflating: classical_music/debussy/debussy_cc_6.mid  \n",
      "  inflating: classical_music/granados/gra_esp_2.mid  \n",
      "  inflating: classical_music/granados/gra_esp_3.mid  \n",
      "  inflating: classical_music/granados/gra_esp_4.mid  \n",
      "  inflating: classical_music/grieg/grieg_album.mid  \n",
      "  inflating: classical_music/grieg/grieg_berceuse.mid  \n",
      "  inflating: classical_music/grieg/grieg_brooklet.mid  \n",
      "  inflating: classical_music/grieg/grieg_butterfly.mid  \n",
      "  inflating: classical_music/grieg/grieg_elfentanz.mid  \n",
      "  inflating: classical_music/grieg/grieg_halling.mid  \n",
      "  inflating: classical_music/grieg/grieg_kobold.mid  \n",
      "  inflating: classical_music/grieg/grieg_march.mid  \n",
      "  inflating: classical_music/grieg/grieg_once_upon_a_time.mid  \n",
      "  inflating: classical_music/grieg/grieg_spring.mid  \n",
      "  inflating: classical_music/grieg/grieg_voeglein.mid  \n",
      "  inflating: classical_music/grieg/grieg_waechter.mid  \n",
      "  inflating: classical_music/grieg/grieg_walzer.mid  \n",
      "  inflating: classical_music/grieg/grieg_wanderer.mid  \n",
      "  inflating: classical_music/grieg/grieg_wedding.mid  \n",
      "  inflating: classical_music/grieg/grieg_zwerge.mid  \n",
      "  inflating: classical_music/haydn/hay_40_1.mid  \n",
      "  inflating: classical_music/haydn/hay_40_2.mid  \n",
      "  inflating: classical_music/haydn/haydn_33_1.mid  \n",
      "  inflating: classical_music/haydn/haydn_33_2.mid  \n",
      "  inflating: classical_music/haydn/haydn_33_3.mid  \n",
      "  inflating: classical_music/haydn/haydn_35_1.mid  \n",
      "  inflating: classical_music/haydn/haydn_35_2.mid  \n",
      "  inflating: classical_music/haydn/haydn_35_3.mid  \n",
      "  inflating: classical_music/haydn/haydn_43_1.mid  \n",
      "  inflating: classical_music/haydn/haydn_43_2.mid  \n",
      "  inflating: classical_music/haydn/haydn_43_3.mid  \n",
      "  inflating: classical_music/haydn/haydn_7_1.mid  \n",
      "  inflating: classical_music/haydn/haydn_7_2.mid  \n",
      "  inflating: classical_music/haydn/haydn_7_3.mid  \n",
      "  inflating: classical_music/haydn/haydn_8_1.mid  \n",
      "  inflating: classical_music/haydn/haydn_8_2.mid  \n",
      "  inflating: classical_music/haydn/haydn_8_3.mid  \n",
      "  inflating: classical_music/haydn/haydn_8_4.mid  \n",
      "  inflating: classical_music/haydn/haydn_9_1.mid  \n",
      "  inflating: classical_music/haydn/haydn_9_2.mid  \n",
      "  inflating: classical_music/haydn/haydn_9_3.mid  \n",
      "  inflating: classical_music/liszt/liz_donjuan.mid  \n",
      "  inflating: classical_music/liszt/liz_et1.mid  \n",
      "  inflating: classical_music/liszt/liz_et2.mid  \n",
      "  inflating: classical_music/liszt/liz_et3.mid  \n",
      "  inflating: classical_music/liszt/liz_et4.mid  \n",
      "  inflating: classical_music/liszt/liz_et5.mid  \n",
      "  inflating: classical_music/liszt/liz_et6.mid  \n",
      "  inflating: classical_music/liszt/liz_et_trans4.mid  \n",
      "  inflating: classical_music/liszt/liz_et_trans5.mid  \n",
      "  inflating: classical_music/liszt/liz_et_trans8.mid  \n",
      "  inflating: classical_music/liszt/liz_liebestraum.mid  \n",
      "  inflating: classical_music/liszt/liz_rhap02.mid  \n",
      "  inflating: classical_music/liszt/liz_rhap09.mid  \n",
      "  inflating: classical_music/liszt/liz_rhap10.mid  \n",
      "  inflating: classical_music/liszt/liz_rhap12.mid  \n",
      "  inflating: classical_music/liszt/liz_rhap15.mid  \n",
      "  inflating: classical_music/mendelssohn/mendel_op19_1.mid  \n",
      "  inflating: classical_music/mendelssohn/mendel_op19_2.mid  \n",
      "  inflating: classical_music/mendelssohn/mendel_op19_3.mid  \n",
      "  inflating: classical_music/mendelssohn/mendel_op19_4.mid  \n",
      "  inflating: classical_music/mendelssohn/mendel_op19_5.mid  \n",
      "  inflating: classical_music/mendelssohn/mendel_op19_6.mid  \n",
      "  inflating: classical_music/mendelssohn/mendel_op30_1.mid  \n",
      "  inflating: classical_music/mendelssohn/mendel_op30_2.mid  \n",
      "  inflating: classical_music/mendelssohn/mendel_op30_3.mid  \n",
      "  inflating: classical_music/mendelssohn/mendel_op30_4.mid  \n",
      "  inflating: classical_music/mendelssohn/mendel_op30_5.mid  \n",
      "  inflating: classical_music/mendelssohn/mendel_op53_5.mid  \n",
      "  inflating: classical_music/mendelssohn/mendel_op62_3.mid  \n",
      "  inflating: classical_music/mendelssohn/mendel_op62_4.mid  \n",
      "  inflating: classical_music/mendelssohn/mendel_op62_5.mid  \n",
      "  inflating: classical_music/mozart/mz_311_1.mid  \n",
      "  inflating: classical_music/mozart/mz_311_2.mid  \n",
      "  inflating: classical_music/mozart/mz_311_3.mid  \n",
      "  inflating: classical_music/mozart/mz_330_1.mid  \n",
      "  inflating: classical_music/mozart/mz_330_2.mid  \n",
      "  inflating: classical_music/mozart/mz_330_3.mid  \n",
      "  inflating: classical_music/mozart/mz_331_1.mid  \n",
      "  inflating: classical_music/mozart/mz_331_2.mid  \n",
      "  inflating: classical_music/mozart/mz_331_3.mid  \n",
      "  inflating: classical_music/mozart/mz_332_1.mid  \n",
      "  inflating: classical_music/mozart/mz_332_2.mid  \n",
      "  inflating: classical_music/mozart/mz_332_3.mid  \n",
      "  inflating: classical_music/mozart/mz_333_1.mid  \n",
      "  inflating: classical_music/mozart/mz_333_2.mid  \n",
      "  inflating: classical_music/mozart/mz_333_3.mid  \n",
      "  inflating: classical_music/mozart/mz_545_1.mid  \n",
      "  inflating: classical_music/mozart/mz_545_2.mid  \n",
      "  inflating: classical_music/mozart/mz_545_3.mid  \n",
      "  inflating: classical_music/mozart/mz_570_1.mid  \n",
      "  inflating: classical_music/mozart/mz_570_2.mid  \n",
      "  inflating: classical_music/mozart/mz_570_3.mid  \n",
      "  inflating: classical_music/muss/muss_1.mid  \n",
      "  inflating: classical_music/muss/muss_2.mid  \n",
      "  inflating: classical_music/muss/muss_3.mid  \n",
      "  inflating: classical_music/muss/muss_4.mid  \n",
      "  inflating: classical_music/muss/muss_5.mid  \n",
      "  inflating: classical_music/muss/muss_6.mid  \n",
      "  inflating: classical_music/muss/muss_7.mid  \n",
      "  inflating: classical_music/muss/muss_8.mid  \n",
      "  inflating: classical_music/schubert/schu_143_1.mid  \n",
      "  inflating: classical_music/schubert/schu_143_2.mid  \n",
      "  inflating: classical_music/schubert/schu_143_3.mid  \n",
      "  inflating: classical_music/schubert/schub_d760_1.mid  \n",
      "  inflating: classical_music/schubert/schub_d760_2.mid  \n",
      "  inflating: classical_music/schubert/schub_d760_3.mid  \n",
      "  inflating: classical_music/schubert/schub_d760_4.mid  \n",
      "  inflating: classical_music/schubert/schub_d960_1.mid  \n",
      "  inflating: classical_music/schubert/schub_d960_2.mid  \n",
      "  inflating: classical_music/schubert/schub_d960_3.mid  \n",
      "  inflating: classical_music/schubert/schub_d960_4.mid  \n",
      "  inflating: classical_music/schubert/schubert_D850_1.mid  \n",
      "  inflating: classical_music/schubert/schubert_D850_2.mid  \n",
      "  inflating: classical_music/schubert/schubert_D850_3.mid  \n",
      "  inflating: classical_music/schubert/schubert_D850_4.mid  \n",
      "  inflating: classical_music/schubert/schubert_D935_1.mid  \n",
      "  inflating: classical_music/schubert/schubert_D935_2.mid  \n",
      "  inflating: classical_music/schubert/schubert_D935_3.mid  \n",
      "  inflating: classical_music/schubert/schubert_D935_4.mid  \n",
      "  inflating: classical_music/schubert/schuim-1.mid  \n",
      "  inflating: classical_music/schubert/schuim-2.mid  \n",
      "  inflating: classical_music/schubert/schuim-3.mid  \n",
      "  inflating: classical_music/schubert/schuim-4.mid  \n",
      "  inflating: classical_music/schubert/schumm-1.mid  \n",
      "  inflating: classical_music/schubert/schumm-2.mid  \n",
      "  inflating: classical_music/schubert/schumm-3.mid  \n",
      "  inflating: classical_music/schubert/schumm-4.mid  \n",
      "  inflating: classical_music/schubert/schumm-5.mid  \n",
      "  inflating: classical_music/schubert/schumm-6.mid  \n",
      "  inflating: classical_music/schumann/schum_abegg.mid  \n",
      "  inflating: classical_music/schumann/scn15_1.mid  \n",
      "  inflating: classical_music/schumann/scn15_10.mid  \n",
      "  inflating: classical_music/schumann/scn15_11.mid  \n",
      "  inflating: classical_music/schumann/scn15_12.mid  \n",
      "  inflating: classical_music/schumann/scn15_13.mid  \n",
      "  inflating: classical_music/schumann/scn15_2.mid  \n",
      "  inflating: classical_music/schumann/scn15_3.mid  \n",
      "  inflating: classical_music/schumann/scn15_4.mid  \n",
      "  inflating: classical_music/schumann/scn15_5.mid  \n",
      "  inflating: classical_music/schumann/scn15_6.mid  \n",
      "  inflating: classical_music/schumann/scn15_7.mid  \n",
      "  inflating: classical_music/schumann/scn15_8.mid  \n",
      "  inflating: classical_music/schumann/scn15_9.mid  \n",
      "  inflating: classical_music/schumann/scn16_1.mid  \n",
      "  inflating: classical_music/schumann/scn16_2.mid  \n",
      "  inflating: classical_music/schumann/scn16_3.mid  \n",
      "  inflating: classical_music/schumann/scn16_4.mid  \n",
      "  inflating: classical_music/schumann/scn16_5.mid  \n",
      "  inflating: classical_music/schumann/scn16_6.mid  \n",
      "  inflating: classical_music/schumann/scn16_7.mid  \n",
      "  inflating: classical_music/schumann/scn16_8.mid  \n",
      "  inflating: classical_music/schumann/scn68_10.mid  \n",
      "  inflating: classical_music/schumann/scn68_12.mid  \n",
      "  inflating: classical_music/tschai/ty_april.mid  \n",
      "  inflating: classical_music/tschai/ty_august.mid  \n",
      "  inflating: classical_music/tschai/ty_dezember.mid  \n",
      "  inflating: classical_music/tschai/ty_februar.mid  \n",
      "  inflating: classical_music/tschai/ty_januar.mid  \n",
      "  inflating: classical_music/tschai/ty_juli.mid  \n",
      "  inflating: classical_music/tschai/ty_juni.mid  \n",
      "  inflating: classical_music/tschai/ty_maerz.mid  \n",
      "  inflating: classical_music/tschai/ty_mai.mid  \n",
      "  inflating: classical_music/tschai/ty_november.mid  \n",
      "  inflating: classical_music/tschai/ty_oktober.mid  \n",
      "  inflating: classical_music/tschai/ty_september.mid  \n"
     ]
    }
   ],
   "source": [
    "# Classical Music\n",
    "!kaggle datasets download soumikrakshit/classical-music-midi\n",
    "!mkdir -p classical_music\n",
    "!unzip classical-music-midi.zip -d classical_music"
   ]
  },
  {
   "cell_type": "markdown",
   "metadata": {
    "jp-MarkdownHeadingCollapsed": true
   },
   "source": [
    "## Trying MusicNet\n",
    "* [MusicNet - Kaggle](https://www.kaggle.com/datasets/imsparsh/musicnet-dataset/data)"
   ]
  },
  {
   "cell_type": "code",
   "execution_count": 1,
   "metadata": {},
   "outputs": [
    {
     "name": "stdout",
     "output_type": "stream",
     "text": [
      "Dataset URL: https://www.kaggle.com/datasets/imsparsh/musicnet-dataset\n",
      "License(s): CC0-1.0\n",
      "Downloading musicnet-dataset.zip to /Users/franco/Documents/GitHub/AdvancedAI\n",
      "  0%|                                      | 42.0M/21.5G [00:04<31:39, 12.1MB/s]^C\n",
      "  0%|                                      | 43.0M/21.5G [00:04<40:31, 9.48MB/s]\n",
      "User cancelled operation\n"
     ]
    }
   ],
   "source": [
    "#!/bin/bash\n",
    "!kaggle datasets download imsparsh/musicnet-dataset"
   ]
  },
  {
   "cell_type": "code",
   "execution_count": 6,
   "metadata": {
    "scrolled": true
   },
   "outputs": [
    {
     "name": "stdout",
     "output_type": "stream",
     "text": [
      "Downloading from https://www.kaggle.com/api/v1/datasets/download/imsparsh/musicnet-dataset?dataset_version_number=1...\n"
     ]
    },
    {
     "name": "stderr",
     "output_type": "stream",
     "text": [
      "  0%|▏                                                                                                                          | 27.0M/21.5G [00:02<38:10, 10.1MB/s]\n"
     ]
    },
    {
     "ename": "KeyboardInterrupt",
     "evalue": "",
     "output_type": "error",
     "traceback": [
      "\u001B[0;31m---------------------------------------------------------------------------\u001B[0m",
      "\u001B[0;31mKeyboardInterrupt\u001B[0m                         Traceback (most recent call last)",
      "Cell \u001B[0;32mIn[6], line 4\u001B[0m\n\u001B[1;32m      1\u001B[0m \u001B[38;5;28;01mimport\u001B[39;00m \u001B[38;5;21;01mkagglehub\u001B[39;00m\n\u001B[1;32m      3\u001B[0m \u001B[38;5;66;03m# Download latest version\u001B[39;00m\n\u001B[0;32m----> 4\u001B[0m path \u001B[38;5;241m=\u001B[39m \u001B[43mkagglehub\u001B[49m\u001B[38;5;241;43m.\u001B[39;49m\u001B[43mdataset_download\u001B[49m\u001B[43m(\u001B[49m\u001B[38;5;124;43m\"\u001B[39;49m\u001B[38;5;124;43mimsparsh/musicnet-dataset\u001B[39;49m\u001B[38;5;124;43m\"\u001B[39;49m\u001B[43m)\u001B[49m\n\u001B[1;32m      6\u001B[0m \u001B[38;5;28mprint\u001B[39m(\u001B[38;5;124m\"\u001B[39m\u001B[38;5;124mPath to dataset files:\u001B[39m\u001B[38;5;124m\"\u001B[39m, path)\n",
      "File \u001B[0;32m~/Documents/GitHub/AdvancedAI/venv/lib/python3.9/site-packages/kagglehub/datasets.py:28\u001B[0m, in \u001B[0;36mdataset_download\u001B[0;34m(handle, path, force_download)\u001B[0m\n\u001B[1;32m     26\u001B[0m h \u001B[38;5;241m=\u001B[39m parse_dataset_handle(handle)\n\u001B[1;32m     27\u001B[0m logger\u001B[38;5;241m.\u001B[39minfo(\u001B[38;5;124mf\u001B[39m\u001B[38;5;124m\"\u001B[39m\u001B[38;5;124mDownloading Dataset: \u001B[39m\u001B[38;5;132;01m{\u001B[39;00mh\u001B[38;5;241m.\u001B[39mto_url()\u001B[38;5;132;01m}\u001B[39;00m\u001B[38;5;124m ...\u001B[39m\u001B[38;5;124m\"\u001B[39m, extra\u001B[38;5;241m=\u001B[39m{\u001B[38;5;241m*\u001B[39m\u001B[38;5;241m*\u001B[39mEXTRA_CONSOLE_BLOCK})\n\u001B[0;32m---> 28\u001B[0m \u001B[38;5;28;01mreturn\u001B[39;00m \u001B[43mregistry\u001B[49m\u001B[38;5;241;43m.\u001B[39;49m\u001B[43mdataset_resolver\u001B[49m\u001B[43m(\u001B[49m\u001B[43mh\u001B[49m\u001B[43m,\u001B[49m\u001B[43m \u001B[49m\u001B[43mpath\u001B[49m\u001B[43m,\u001B[49m\u001B[43m \u001B[49m\u001B[43mforce_download\u001B[49m\u001B[38;5;241;43m=\u001B[39;49m\u001B[43mforce_download\u001B[49m\u001B[43m)\u001B[49m\n",
      "File \u001B[0;32m~/Documents/GitHub/AdvancedAI/venv/lib/python3.9/site-packages/kagglehub/registry.py:23\u001B[0m, in \u001B[0;36mMultiImplRegistry.__call__\u001B[0;34m(self, *args, **kwargs)\u001B[0m\n\u001B[1;32m     21\u001B[0m \u001B[38;5;28;01mfor\u001B[39;00m impl \u001B[38;5;129;01min\u001B[39;00m \u001B[38;5;28mreversed\u001B[39m(\u001B[38;5;28mself\u001B[39m\u001B[38;5;241m.\u001B[39m_impls):\n\u001B[1;32m     22\u001B[0m     \u001B[38;5;28;01mif\u001B[39;00m impl\u001B[38;5;241m.\u001B[39mis_supported(\u001B[38;5;241m*\u001B[39margs, \u001B[38;5;241m*\u001B[39m\u001B[38;5;241m*\u001B[39mkwargs):\n\u001B[0;32m---> 23\u001B[0m         \u001B[38;5;28;01mreturn\u001B[39;00m \u001B[43mimpl\u001B[49m\u001B[43m(\u001B[49m\u001B[38;5;241;43m*\u001B[39;49m\u001B[43margs\u001B[49m\u001B[43m,\u001B[49m\u001B[43m \u001B[49m\u001B[38;5;241;43m*\u001B[39;49m\u001B[38;5;241;43m*\u001B[39;49m\u001B[43mkwargs\u001B[49m\u001B[43m)\u001B[49m\n\u001B[1;32m     24\u001B[0m     \u001B[38;5;28;01melse\u001B[39;00m:\n\u001B[1;32m     25\u001B[0m         fails\u001B[38;5;241m.\u001B[39mappend(\u001B[38;5;28mtype\u001B[39m(impl)\u001B[38;5;241m.\u001B[39m\u001B[38;5;18m__name__\u001B[39m)\n",
      "File \u001B[0;32m~/Documents/GitHub/AdvancedAI/venv/lib/python3.9/site-packages/kagglehub/http_resolver.py:125\u001B[0m, in \u001B[0;36mDatasetHttpResolver.__call__\u001B[0;34m(self, h, path, force_download)\u001B[0m\n\u001B[1;32m    122\u001B[0m os\u001B[38;5;241m.\u001B[39mmakedirs(os\u001B[38;5;241m.\u001B[39mpath\u001B[38;5;241m.\u001B[39mdirname(archive_path), exist_ok\u001B[38;5;241m=\u001B[39m\u001B[38;5;28;01mTrue\u001B[39;00m)\n\u001B[1;32m    124\u001B[0m \u001B[38;5;66;03m# First, we download the archive.\u001B[39;00m\n\u001B[0;32m--> 125\u001B[0m \u001B[43mapi_client\u001B[49m\u001B[38;5;241;43m.\u001B[39;49m\u001B[43mdownload_file\u001B[49m\u001B[43m(\u001B[49m\u001B[43murl_path\u001B[49m\u001B[43m,\u001B[49m\u001B[43m \u001B[49m\u001B[43marchive_path\u001B[49m\u001B[43m,\u001B[49m\u001B[43m \u001B[49m\u001B[43mh\u001B[49m\u001B[43m)\u001B[49m\n\u001B[1;32m    127\u001B[0m \u001B[38;5;66;03m# Create the directory to extract the archive to.\u001B[39;00m\n\u001B[1;32m    128\u001B[0m os\u001B[38;5;241m.\u001B[39mmakedirs(out_path, exist_ok\u001B[38;5;241m=\u001B[39m\u001B[38;5;28;01mTrue\u001B[39;00m)\n",
      "File \u001B[0;32m~/Documents/GitHub/AdvancedAI/venv/lib/python3.9/site-packages/kagglehub/clients.py:191\u001B[0m, in \u001B[0;36mKaggleApiV1Client.download_file\u001B[0;34m(self, path, out_file, resource_handle, cached_path)\u001B[0m\n\u001B[1;32m    189\u001B[0m \u001B[38;5;28;01melse\u001B[39;00m:\n\u001B[1;32m    190\u001B[0m     logger\u001B[38;5;241m.\u001B[39minfo(\u001B[38;5;124mf\u001B[39m\u001B[38;5;124m\"\u001B[39m\u001B[38;5;124mDownloading from \u001B[39m\u001B[38;5;132;01m{\u001B[39;00murl\u001B[38;5;132;01m}\u001B[39;00m\u001B[38;5;124m...\u001B[39m\u001B[38;5;124m\"\u001B[39m)\n\u001B[0;32m--> 191\u001B[0m     \u001B[43m_download_file\u001B[49m\u001B[43m(\u001B[49m\u001B[43mresponse\u001B[49m\u001B[43m,\u001B[49m\u001B[43m \u001B[49m\u001B[43mout_file\u001B[49m\u001B[43m,\u001B[49m\u001B[43m \u001B[49m\u001B[43msize_read\u001B[49m\u001B[43m,\u001B[49m\u001B[43m \u001B[49m\u001B[43mtotal_size\u001B[49m\u001B[43m,\u001B[49m\u001B[43m \u001B[49m\u001B[43mhash_object\u001B[49m\u001B[43m)\u001B[49m\n\u001B[1;32m    193\u001B[0m \u001B[38;5;28;01mif\u001B[39;00m hash_object:\n\u001B[1;32m    194\u001B[0m     actual_md5_hash \u001B[38;5;241m=\u001B[39m to_b64_digest(hash_object)\n",
      "File \u001B[0;32m~/Documents/GitHub/AdvancedAI/venv/lib/python3.9/site-packages/kagglehub/clients.py:231\u001B[0m, in \u001B[0;36m_download_file\u001B[0;34m(response, out_file, size_read, total_size, hash_object)\u001B[0m\n\u001B[1;32m    229\u001B[0m \u001B[38;5;28;01mwith\u001B[39;00m tqdm(total\u001B[38;5;241m=\u001B[39mtotal_size, initial\u001B[38;5;241m=\u001B[39msize_read, unit\u001B[38;5;241m=\u001B[39m\u001B[38;5;124m\"\u001B[39m\u001B[38;5;124mB\u001B[39m\u001B[38;5;124m\"\u001B[39m, unit_scale\u001B[38;5;241m=\u001B[39m\u001B[38;5;28;01mTrue\u001B[39;00m, unit_divisor\u001B[38;5;241m=\u001B[39m\u001B[38;5;241m1024\u001B[39m) \u001B[38;5;28;01mas\u001B[39;00m progress_bar:\n\u001B[1;32m    230\u001B[0m     \u001B[38;5;28;01mwith\u001B[39;00m \u001B[38;5;28mopen\u001B[39m(out_file, open_mode) \u001B[38;5;28;01mas\u001B[39;00m f:\n\u001B[0;32m--> 231\u001B[0m         \u001B[38;5;28;01mfor\u001B[39;00m chunk \u001B[38;5;129;01min\u001B[39;00m response\u001B[38;5;241m.\u001B[39miter_content(CHUNK_SIZE):\n\u001B[1;32m    232\u001B[0m             f\u001B[38;5;241m.\u001B[39mwrite(chunk)\n\u001B[1;32m    233\u001B[0m             \u001B[38;5;28;01mif\u001B[39;00m hash_object:\n",
      "File \u001B[0;32m~/Documents/GitHub/AdvancedAI/venv/lib/python3.9/site-packages/requests/models.py:820\u001B[0m, in \u001B[0;36mResponse.iter_content.<locals>.generate\u001B[0;34m()\u001B[0m\n\u001B[1;32m    818\u001B[0m \u001B[38;5;28;01mif\u001B[39;00m \u001B[38;5;28mhasattr\u001B[39m(\u001B[38;5;28mself\u001B[39m\u001B[38;5;241m.\u001B[39mraw, \u001B[38;5;124m\"\u001B[39m\u001B[38;5;124mstream\u001B[39m\u001B[38;5;124m\"\u001B[39m):\n\u001B[1;32m    819\u001B[0m     \u001B[38;5;28;01mtry\u001B[39;00m:\n\u001B[0;32m--> 820\u001B[0m         \u001B[38;5;28;01myield from\u001B[39;00m \u001B[38;5;28mself\u001B[39m\u001B[38;5;241m.\u001B[39mraw\u001B[38;5;241m.\u001B[39mstream(chunk_size, decode_content\u001B[38;5;241m=\u001B[39m\u001B[38;5;28;01mTrue\u001B[39;00m)\n\u001B[1;32m    821\u001B[0m     \u001B[38;5;28;01mexcept\u001B[39;00m ProtocolError \u001B[38;5;28;01mas\u001B[39;00m e:\n\u001B[1;32m    822\u001B[0m         \u001B[38;5;28;01mraise\u001B[39;00m ChunkedEncodingError(e)\n",
      "File \u001B[0;32m~/Documents/GitHub/AdvancedAI/venv/lib/python3.9/site-packages/urllib3/response.py:1060\u001B[0m, in \u001B[0;36mHTTPResponse.stream\u001B[0;34m(self, amt, decode_content)\u001B[0m\n\u001B[1;32m   1058\u001B[0m \u001B[38;5;28;01melse\u001B[39;00m:\n\u001B[1;32m   1059\u001B[0m     \u001B[38;5;28;01mwhile\u001B[39;00m \u001B[38;5;129;01mnot\u001B[39;00m is_fp_closed(\u001B[38;5;28mself\u001B[39m\u001B[38;5;241m.\u001B[39m_fp) \u001B[38;5;129;01mor\u001B[39;00m \u001B[38;5;28mlen\u001B[39m(\u001B[38;5;28mself\u001B[39m\u001B[38;5;241m.\u001B[39m_decoded_buffer) \u001B[38;5;241m>\u001B[39m \u001B[38;5;241m0\u001B[39m:\n\u001B[0;32m-> 1060\u001B[0m         data \u001B[38;5;241m=\u001B[39m \u001B[38;5;28;43mself\u001B[39;49m\u001B[38;5;241;43m.\u001B[39;49m\u001B[43mread\u001B[49m\u001B[43m(\u001B[49m\u001B[43mamt\u001B[49m\u001B[38;5;241;43m=\u001B[39;49m\u001B[43mamt\u001B[49m\u001B[43m,\u001B[49m\u001B[43m \u001B[49m\u001B[43mdecode_content\u001B[49m\u001B[38;5;241;43m=\u001B[39;49m\u001B[43mdecode_content\u001B[49m\u001B[43m)\u001B[49m\n\u001B[1;32m   1062\u001B[0m         \u001B[38;5;28;01mif\u001B[39;00m data:\n\u001B[1;32m   1063\u001B[0m             \u001B[38;5;28;01myield\u001B[39;00m data\n",
      "File \u001B[0;32m~/Documents/GitHub/AdvancedAI/venv/lib/python3.9/site-packages/urllib3/response.py:949\u001B[0m, in \u001B[0;36mHTTPResponse.read\u001B[0;34m(self, amt, decode_content, cache_content)\u001B[0m\n\u001B[1;32m    946\u001B[0m     \u001B[38;5;28;01mif\u001B[39;00m \u001B[38;5;28mlen\u001B[39m(\u001B[38;5;28mself\u001B[39m\u001B[38;5;241m.\u001B[39m_decoded_buffer) \u001B[38;5;241m>\u001B[39m\u001B[38;5;241m=\u001B[39m amt:\n\u001B[1;32m    947\u001B[0m         \u001B[38;5;28;01mreturn\u001B[39;00m \u001B[38;5;28mself\u001B[39m\u001B[38;5;241m.\u001B[39m_decoded_buffer\u001B[38;5;241m.\u001B[39mget(amt)\n\u001B[0;32m--> 949\u001B[0m data \u001B[38;5;241m=\u001B[39m \u001B[38;5;28;43mself\u001B[39;49m\u001B[38;5;241;43m.\u001B[39;49m\u001B[43m_raw_read\u001B[49m\u001B[43m(\u001B[49m\u001B[43mamt\u001B[49m\u001B[43m)\u001B[49m\n\u001B[1;32m    951\u001B[0m flush_decoder \u001B[38;5;241m=\u001B[39m amt \u001B[38;5;129;01mis\u001B[39;00m \u001B[38;5;28;01mNone\u001B[39;00m \u001B[38;5;129;01mor\u001B[39;00m (amt \u001B[38;5;241m!=\u001B[39m \u001B[38;5;241m0\u001B[39m \u001B[38;5;129;01mand\u001B[39;00m \u001B[38;5;129;01mnot\u001B[39;00m data)\n\u001B[1;32m    953\u001B[0m \u001B[38;5;28;01mif\u001B[39;00m \u001B[38;5;129;01mnot\u001B[39;00m data \u001B[38;5;129;01mand\u001B[39;00m \u001B[38;5;28mlen\u001B[39m(\u001B[38;5;28mself\u001B[39m\u001B[38;5;241m.\u001B[39m_decoded_buffer) \u001B[38;5;241m==\u001B[39m \u001B[38;5;241m0\u001B[39m:\n",
      "File \u001B[0;32m~/Documents/GitHub/AdvancedAI/venv/lib/python3.9/site-packages/urllib3/response.py:873\u001B[0m, in \u001B[0;36mHTTPResponse._raw_read\u001B[0;34m(self, amt, read1)\u001B[0m\n\u001B[1;32m    870\u001B[0m fp_closed \u001B[38;5;241m=\u001B[39m \u001B[38;5;28mgetattr\u001B[39m(\u001B[38;5;28mself\u001B[39m\u001B[38;5;241m.\u001B[39m_fp, \u001B[38;5;124m\"\u001B[39m\u001B[38;5;124mclosed\u001B[39m\u001B[38;5;124m\"\u001B[39m, \u001B[38;5;28;01mFalse\u001B[39;00m)\n\u001B[1;32m    872\u001B[0m \u001B[38;5;28;01mwith\u001B[39;00m \u001B[38;5;28mself\u001B[39m\u001B[38;5;241m.\u001B[39m_error_catcher():\n\u001B[0;32m--> 873\u001B[0m     data \u001B[38;5;241m=\u001B[39m \u001B[38;5;28;43mself\u001B[39;49m\u001B[38;5;241;43m.\u001B[39;49m\u001B[43m_fp_read\u001B[49m\u001B[43m(\u001B[49m\u001B[43mamt\u001B[49m\u001B[43m,\u001B[49m\u001B[43m \u001B[49m\u001B[43mread1\u001B[49m\u001B[38;5;241;43m=\u001B[39;49m\u001B[43mread1\u001B[49m\u001B[43m)\u001B[49m \u001B[38;5;28;01mif\u001B[39;00m \u001B[38;5;129;01mnot\u001B[39;00m fp_closed \u001B[38;5;28;01melse\u001B[39;00m \u001B[38;5;124mb\u001B[39m\u001B[38;5;124m\"\u001B[39m\u001B[38;5;124m\"\u001B[39m\n\u001B[1;32m    874\u001B[0m     \u001B[38;5;28;01mif\u001B[39;00m amt \u001B[38;5;129;01mis\u001B[39;00m \u001B[38;5;129;01mnot\u001B[39;00m \u001B[38;5;28;01mNone\u001B[39;00m \u001B[38;5;129;01mand\u001B[39;00m amt \u001B[38;5;241m!=\u001B[39m \u001B[38;5;241m0\u001B[39m \u001B[38;5;129;01mand\u001B[39;00m \u001B[38;5;129;01mnot\u001B[39;00m data:\n\u001B[1;32m    875\u001B[0m         \u001B[38;5;66;03m# Platform-specific: Buggy versions of Python.\u001B[39;00m\n\u001B[1;32m    876\u001B[0m         \u001B[38;5;66;03m# Close the connection when no data is returned\u001B[39;00m\n\u001B[0;32m   (...)\u001B[0m\n\u001B[1;32m    881\u001B[0m         \u001B[38;5;66;03m# not properly close the connection in all cases. There is\u001B[39;00m\n\u001B[1;32m    882\u001B[0m         \u001B[38;5;66;03m# no harm in redundantly calling close.\u001B[39;00m\n\u001B[1;32m    883\u001B[0m         \u001B[38;5;28mself\u001B[39m\u001B[38;5;241m.\u001B[39m_fp\u001B[38;5;241m.\u001B[39mclose()\n",
      "File \u001B[0;32m~/Documents/GitHub/AdvancedAI/venv/lib/python3.9/site-packages/urllib3/response.py:856\u001B[0m, in \u001B[0;36mHTTPResponse._fp_read\u001B[0;34m(self, amt, read1)\u001B[0m\n\u001B[1;32m    853\u001B[0m     \u001B[38;5;28;01mreturn\u001B[39;00m \u001B[38;5;28mself\u001B[39m\u001B[38;5;241m.\u001B[39m_fp\u001B[38;5;241m.\u001B[39mread1(amt) \u001B[38;5;28;01mif\u001B[39;00m amt \u001B[38;5;129;01mis\u001B[39;00m \u001B[38;5;129;01mnot\u001B[39;00m \u001B[38;5;28;01mNone\u001B[39;00m \u001B[38;5;28;01melse\u001B[39;00m \u001B[38;5;28mself\u001B[39m\u001B[38;5;241m.\u001B[39m_fp\u001B[38;5;241m.\u001B[39mread1()\n\u001B[1;32m    854\u001B[0m \u001B[38;5;28;01melse\u001B[39;00m:\n\u001B[1;32m    855\u001B[0m     \u001B[38;5;66;03m# StringIO doesn't like amt=None\u001B[39;00m\n\u001B[0;32m--> 856\u001B[0m     \u001B[38;5;28;01mreturn\u001B[39;00m \u001B[38;5;28;43mself\u001B[39;49m\u001B[38;5;241;43m.\u001B[39;49m\u001B[43m_fp\u001B[49m\u001B[38;5;241;43m.\u001B[39;49m\u001B[43mread\u001B[49m\u001B[43m(\u001B[49m\u001B[43mamt\u001B[49m\u001B[43m)\u001B[49m \u001B[38;5;28;01mif\u001B[39;00m amt \u001B[38;5;129;01mis\u001B[39;00m \u001B[38;5;129;01mnot\u001B[39;00m \u001B[38;5;28;01mNone\u001B[39;00m \u001B[38;5;28;01melse\u001B[39;00m \u001B[38;5;28mself\u001B[39m\u001B[38;5;241m.\u001B[39m_fp\u001B[38;5;241m.\u001B[39mread()\n",
      "File \u001B[0;32m~/opt/anaconda3/lib/python3.9/http/client.py:463\u001B[0m, in \u001B[0;36mHTTPResponse.read\u001B[0;34m(self, amt)\u001B[0m\n\u001B[1;32m    460\u001B[0m \u001B[38;5;28;01mif\u001B[39;00m amt \u001B[38;5;129;01mis\u001B[39;00m \u001B[38;5;129;01mnot\u001B[39;00m \u001B[38;5;28;01mNone\u001B[39;00m:\n\u001B[1;32m    461\u001B[0m     \u001B[38;5;66;03m# Amount is given, implement using readinto\u001B[39;00m\n\u001B[1;32m    462\u001B[0m     b \u001B[38;5;241m=\u001B[39m \u001B[38;5;28mbytearray\u001B[39m(amt)\n\u001B[0;32m--> 463\u001B[0m     n \u001B[38;5;241m=\u001B[39m \u001B[38;5;28;43mself\u001B[39;49m\u001B[38;5;241;43m.\u001B[39;49m\u001B[43mreadinto\u001B[49m\u001B[43m(\u001B[49m\u001B[43mb\u001B[49m\u001B[43m)\u001B[49m\n\u001B[1;32m    464\u001B[0m     \u001B[38;5;28;01mreturn\u001B[39;00m \u001B[38;5;28mmemoryview\u001B[39m(b)[:n]\u001B[38;5;241m.\u001B[39mtobytes()\n\u001B[1;32m    465\u001B[0m \u001B[38;5;28;01melse\u001B[39;00m:\n\u001B[1;32m    466\u001B[0m     \u001B[38;5;66;03m# Amount is not given (unbounded read) so we must check self.length\u001B[39;00m\n\u001B[1;32m    467\u001B[0m     \u001B[38;5;66;03m# and self.chunked\u001B[39;00m\n",
      "File \u001B[0;32m~/opt/anaconda3/lib/python3.9/http/client.py:507\u001B[0m, in \u001B[0;36mHTTPResponse.readinto\u001B[0;34m(self, b)\u001B[0m\n\u001B[1;32m    502\u001B[0m         b \u001B[38;5;241m=\u001B[39m \u001B[38;5;28mmemoryview\u001B[39m(b)[\u001B[38;5;241m0\u001B[39m:\u001B[38;5;28mself\u001B[39m\u001B[38;5;241m.\u001B[39mlength]\n\u001B[1;32m    504\u001B[0m \u001B[38;5;66;03m# we do not use _safe_read() here because this may be a .will_close\u001B[39;00m\n\u001B[1;32m    505\u001B[0m \u001B[38;5;66;03m# connection, and the user is reading more bytes than will be provided\u001B[39;00m\n\u001B[1;32m    506\u001B[0m \u001B[38;5;66;03m# (for example, reading in 1k chunks)\u001B[39;00m\n\u001B[0;32m--> 507\u001B[0m n \u001B[38;5;241m=\u001B[39m \u001B[38;5;28;43mself\u001B[39;49m\u001B[38;5;241;43m.\u001B[39;49m\u001B[43mfp\u001B[49m\u001B[38;5;241;43m.\u001B[39;49m\u001B[43mreadinto\u001B[49m\u001B[43m(\u001B[49m\u001B[43mb\u001B[49m\u001B[43m)\u001B[49m\n\u001B[1;32m    508\u001B[0m \u001B[38;5;28;01mif\u001B[39;00m \u001B[38;5;129;01mnot\u001B[39;00m n \u001B[38;5;129;01mand\u001B[39;00m b:\n\u001B[1;32m    509\u001B[0m     \u001B[38;5;66;03m# Ideally, we would raise IncompleteRead if the content-length\u001B[39;00m\n\u001B[1;32m    510\u001B[0m     \u001B[38;5;66;03m# wasn't satisfied, but it might break compatibility.\u001B[39;00m\n\u001B[1;32m    511\u001B[0m     \u001B[38;5;28mself\u001B[39m\u001B[38;5;241m.\u001B[39m_close_conn()\n",
      "File \u001B[0;32m~/opt/anaconda3/lib/python3.9/socket.py:716\u001B[0m, in \u001B[0;36mSocketIO.readinto\u001B[0;34m(self, b)\u001B[0m\n\u001B[1;32m    714\u001B[0m \u001B[38;5;28;01mwhile\u001B[39;00m \u001B[38;5;28;01mTrue\u001B[39;00m:\n\u001B[1;32m    715\u001B[0m     \u001B[38;5;28;01mtry\u001B[39;00m:\n\u001B[0;32m--> 716\u001B[0m         \u001B[38;5;28;01mreturn\u001B[39;00m \u001B[38;5;28;43mself\u001B[39;49m\u001B[38;5;241;43m.\u001B[39;49m\u001B[43m_sock\u001B[49m\u001B[38;5;241;43m.\u001B[39;49m\u001B[43mrecv_into\u001B[49m\u001B[43m(\u001B[49m\u001B[43mb\u001B[49m\u001B[43m)\u001B[49m\n\u001B[1;32m    717\u001B[0m     \u001B[38;5;28;01mexcept\u001B[39;00m timeout:\n\u001B[1;32m    718\u001B[0m         \u001B[38;5;28mself\u001B[39m\u001B[38;5;241m.\u001B[39m_timeout_occurred \u001B[38;5;241m=\u001B[39m \u001B[38;5;28;01mTrue\u001B[39;00m\n",
      "File \u001B[0;32m~/opt/anaconda3/lib/python3.9/ssl.py:1275\u001B[0m, in \u001B[0;36mSSLSocket.recv_into\u001B[0;34m(self, buffer, nbytes, flags)\u001B[0m\n\u001B[1;32m   1271\u001B[0m     \u001B[38;5;28;01mif\u001B[39;00m flags \u001B[38;5;241m!=\u001B[39m \u001B[38;5;241m0\u001B[39m:\n\u001B[1;32m   1272\u001B[0m         \u001B[38;5;28;01mraise\u001B[39;00m \u001B[38;5;167;01mValueError\u001B[39;00m(\n\u001B[1;32m   1273\u001B[0m           \u001B[38;5;124m\"\u001B[39m\u001B[38;5;124mnon-zero flags not allowed in calls to recv_into() on \u001B[39m\u001B[38;5;132;01m%s\u001B[39;00m\u001B[38;5;124m\"\u001B[39m \u001B[38;5;241m%\u001B[39m\n\u001B[1;32m   1274\u001B[0m           \u001B[38;5;28mself\u001B[39m\u001B[38;5;241m.\u001B[39m\u001B[38;5;18m__class__\u001B[39m)\n\u001B[0;32m-> 1275\u001B[0m     \u001B[38;5;28;01mreturn\u001B[39;00m \u001B[38;5;28;43mself\u001B[39;49m\u001B[38;5;241;43m.\u001B[39;49m\u001B[43mread\u001B[49m\u001B[43m(\u001B[49m\u001B[43mnbytes\u001B[49m\u001B[43m,\u001B[49m\u001B[43m \u001B[49m\u001B[43mbuffer\u001B[49m\u001B[43m)\u001B[49m\n\u001B[1;32m   1276\u001B[0m \u001B[38;5;28;01melse\u001B[39;00m:\n\u001B[1;32m   1277\u001B[0m     \u001B[38;5;28;01mreturn\u001B[39;00m \u001B[38;5;28msuper\u001B[39m()\u001B[38;5;241m.\u001B[39mrecv_into(buffer, nbytes, flags)\n",
      "File \u001B[0;32m~/opt/anaconda3/lib/python3.9/ssl.py:1133\u001B[0m, in \u001B[0;36mSSLSocket.read\u001B[0;34m(self, len, buffer)\u001B[0m\n\u001B[1;32m   1131\u001B[0m \u001B[38;5;28;01mtry\u001B[39;00m:\n\u001B[1;32m   1132\u001B[0m     \u001B[38;5;28;01mif\u001B[39;00m buffer \u001B[38;5;129;01mis\u001B[39;00m \u001B[38;5;129;01mnot\u001B[39;00m \u001B[38;5;28;01mNone\u001B[39;00m:\n\u001B[0;32m-> 1133\u001B[0m         \u001B[38;5;28;01mreturn\u001B[39;00m \u001B[38;5;28;43mself\u001B[39;49m\u001B[38;5;241;43m.\u001B[39;49m\u001B[43m_sslobj\u001B[49m\u001B[38;5;241;43m.\u001B[39;49m\u001B[43mread\u001B[49m\u001B[43m(\u001B[49m\u001B[38;5;28;43mlen\u001B[39;49m\u001B[43m,\u001B[49m\u001B[43m \u001B[49m\u001B[43mbuffer\u001B[49m\u001B[43m)\u001B[49m\n\u001B[1;32m   1134\u001B[0m     \u001B[38;5;28;01melse\u001B[39;00m:\n\u001B[1;32m   1135\u001B[0m         \u001B[38;5;28;01mreturn\u001B[39;00m \u001B[38;5;28mself\u001B[39m\u001B[38;5;241m.\u001B[39m_sslobj\u001B[38;5;241m.\u001B[39mread(\u001B[38;5;28mlen\u001B[39m)\n",
      "\u001B[0;31mKeyboardInterrupt\u001B[0m: "
     ]
    }
   ],
   "source": [
    "import kagglehub\n",
    "\n",
    "# Download latest version\n",
    "path = kagglehub.dataset_download(\"imsparsh/musicnet-dataset\")\n",
    "\n",
    "print(\"Path to dataset files:\", path)"
   ]
  },
  {
   "cell_type": "code",
   "execution_count": null,
   "metadata": {},
   "outputs": [],
   "source": []
  },
  {
   "cell_type": "markdown",
   "metadata": {
    "jp-MarkdownHeadingCollapsed": true
   },
   "source": [
    "# Workspace"
   ]
  },
  {
   "cell_type": "code",
   "execution_count": 5,
   "metadata": {},
   "outputs": [],
   "source": [
    "classical_music_list = os.listdir('classical_music')\n",
    "pop_music_list = os.listdir('pop_music')"
   ]
  },
  {
   "cell_type": "code",
   "execution_count": 12,
   "metadata": {},
   "outputs": [],
   "source": [
    "classical_music_list = [f\"classical_music/{p}\" for p in classical_music_list]\n",
    "pop_music_list = [f\"pop_music/{p}\" for p in pop_music_list]"
   ]
  },
  {
   "cell_type": "code",
   "execution_count": 13,
   "metadata": {},
   "outputs": [
    {
     "name": "stdout",
     "output_type": "stream",
     "text": [
      "MIDI File Type: 1\n",
      "Number of Tracks: 17\n",
      "Ticks per Beat: 480\n"
     ]
    }
   ],
   "source": [
    "first_classical_midi = classical_music_list[0]\n",
    "midi_file = mido.MidiFile(first_classical_midi)\n",
    "print(\"MIDI File Type:\", midi_file.type)\n",
    "print(\"Number of Tracks:\", len(midi_file.tracks))\n",
    "print(\"Ticks per Beat:\", midi_file.ticks_per_beat)"
   ]
  },
  {
   "cell_type": "markdown",
   "metadata": {
    "jp-MarkdownHeadingCollapsed": true
   },
   "source": [
    "# midi to numpy array\n",
    "* https://medium.com/analytics-vidhya/convert-midi-file-to-numpy-array-in-python-7d00531890c"
   ]
  },
  {
   "cell_type": "code",
   "execution_count": 21,
   "metadata": {},
   "outputs": [],
   "source": [
    "def msg2dict(msg):\n",
    "    result = dict()\n",
    "    if 'note_on' in msg:\n",
    "        on_ = True\n",
    "    elif 'note_off' in msg:\n",
    "        on_ = False\n",
    "    else:\n",
    "        on_ = None\n",
    "    result['time'] = int(msg[msg.rfind('time'):].split(' ')[0].split('=')[1].translate(\n",
    "        str.maketrans({a: None for a in string.punctuation})))\n",
    "\n",
    "    if on_ is not None:\n",
    "        for k in ['note', 'velocity']:\n",
    "            result[k] = int(msg[msg.rfind(k):].split(' ')[0].split('=')[1].translate(\n",
    "                str.maketrans({a: None for a in string.punctuation})))\n",
    "    return [result, on_]"
   ]
  },
  {
   "cell_type": "code",
   "execution_count": 22,
   "metadata": {},
   "outputs": [],
   "source": [
    "def switch_note(last_state, note, velocity, on_=True):\n",
    "    # piano has 88 notes, corresponding to note id 21 to 108, any note out of this range will be ignored\n",
    "    result = [0] * 88 if last_state is None else last_state.copy()\n",
    "    if 21 <= note <= 108:\n",
    "        result[note-21] = velocity if on_ else 0\n",
    "    return result"
   ]
  },
  {
   "cell_type": "code",
   "execution_count": 23,
   "metadata": {},
   "outputs": [],
   "source": [
    "def get_new_state(new_msg, last_state):\n",
    "    new_msg, on_ = msg2dict(str(new_msg))\n",
    "    new_state = switch_note(last_state, note=new_msg['note'], velocity=new_msg['velocity'], on_=on_) if on_ is not None else last_state\n",
    "    return [new_state, new_msg['time']]\n",
    "def track2seq(track):\n",
    "    # piano has 88 notes, corresponding to note id 21 to 108, any note out of the id range will be ignored\n",
    "    result = []\n",
    "    last_state, last_time = get_new_state(str(track[0]), [0]*88)\n",
    "    for i in range(1, len(track)):\n",
    "        new_state, new_time = get_new_state(track[i], last_state)\n",
    "        if new_time > 0:\n",
    "            result += [last_state]*new_time\n",
    "        last_state, last_time = new_state, new_time\n",
    "    return result"
   ]
  },
  {
   "cell_type": "code",
   "execution_count": 24,
   "metadata": {},
   "outputs": [],
   "source": [
    "def mid2arry(mid, min_msg_pct=0.1):\n",
    "    tracks_len = [len(tr) for tr in mid.tracks]\n",
    "    min_n_msg = max(tracks_len) * min_msg_pct\n",
    "    # convert each track to nested list\n",
    "    all_arys = []\n",
    "    for i in range(len(mid.tracks)):\n",
    "        if len(mid.tracks[i]) > min_n_msg:\n",
    "            ary_i = track2seq(mid.tracks[i])\n",
    "            all_arys.append(ary_i)\n",
    "    # make all nested list the same length\n",
    "    max_len = max([len(ary) for ary in all_arys])\n",
    "    for i in range(len(all_arys)):\n",
    "        if len(all_arys[i]) < max_len:\n",
    "            all_arys[i] += [[0] * 88] * (max_len - len(all_arys[i]))\n",
    "    all_arys = np.array(all_arys)\n",
    "    all_arys = all_arys.max(axis=0)\n",
    "    # trim: remove consecutive 0s in the beginning and at the end\n",
    "    sums = all_arys.sum(axis=1)\n",
    "    ends = np.where(sums > 0)[0]\n",
    "    return all_arys[min(ends): max(ends)]"
   ]
  },
  {
   "cell_type": "code",
   "execution_count": 33,
   "metadata": {},
   "outputs": [
    {
     "data": {
      "image/png": "[encoded data removed]",
      "text/plain": [
       "<Figure size 640x480 with 1 Axes>"
      ]
     },
     "metadata": {},
     "output_type": "display_data"
    },
    {
     "name": "stdout",
     "output_type": "stream",
     "text": [
      "CPU times: user 16.3 s, sys: 1.84 s, total: 18.2 s\n",
      "Wall time: 18.8 s\n"
     ]
    }
   ],
   "source": [
    "%%time\n",
    "result_array = mid2arry(midi_file)\n",
    "plt.plot(range(result_array.shape[0]), np.multiply(np.where(result_array>0, 1, 0), range(1, 89)), marker='.', markersize=1, linestyle='')\n",
    "plt.title(first_classical_midi)\n",
    "plt.show()"
   ]
  },
  {
   "cell_type": "code",
   "execution_count": 34,
   "metadata": {
    "pycharm": {
     "name": "#%%\n"
    }
   },
   "outputs": [
    {
     "data": {
      "text/plain": [
       "array([[0, 0, 0, ..., 0, 0, 0],\n",
       "       [0, 0, 0, ..., 0, 0, 0],\n",
       "       [0, 0, 0, ..., 0, 0, 0],\n",
       "       ...,\n",
       "       [0, 0, 0, ..., 0, 0, 0],\n",
       "       [0, 0, 0, ..., 0, 0, 0],\n",
       "       [0, 0, 0, ..., 0, 0, 0]])"
      ]
     },
     "execution_count": 34,
     "metadata": {},
     "output_type": "execute_result"
    }
   ],
   "source": [
    "result_array"
   ]
  },
  {
   "cell_type": "markdown",
   "metadata": {},
   "source": [
    "# Converting all midi files to numpy arrays"
   ]
  },
  {
   "cell_type": "code",
   "execution_count": 3,
   "metadata": {},
   "outputs": [],
   "source": [
    "classical_music_list = [f\"classical_music/{p}\" for p in os.listdir('classical_music') if p.endswith(('.mid', '.midi'))]\n",
    "pop_music_list = [f\"pop_music/{p}\" for p in os.listdir('pop_music') if p.endswith(('.mid', '.midi'))]"
   ]
  },
  {
   "cell_type": "code",
   "execution_count": 4,
   "metadata": {},
   "outputs": [],
   "source": [
    "arrays_folder_path = 'numpy_arrays'\n",
    "if not os.path.exists(arrays_folder_path):\n",
    "    os.mkdir(arrays_folder_path)"
   ]
  },
  {
   "cell_type": "code",
   "execution_count": 5,
   "metadata": {},
   "outputs": [],
   "source": [
    "classical_music_dict = [{p: mido.MidiFile(p) for p in classical_music_list}]\n",
    "pop_music_dict = [{p: mido.MidiFile(p) for p in pop_music_list}]"
   ]
  },
  {
   "cell_type": "code",
   "execution_count": null,
   "metadata": {},
   "outputs": [],
   "source": [
    "classical_music_dict[0]"
   ]
  },
  {
   "cell_type": "code",
   "execution_count": null,
   "metadata": {},
   "outputs": [],
   "source": []
  }
 ],
 "metadata": {
  "kernelspec": {
   "display_name": "Python 3 (ipykernel)",
   "language": "python",
   "name": "python3"
  },
  "language_info": {
   "codemirror_mode": {
    "name": "ipython",
    "version": 3
   },
   "file_extension": ".py",
   "mimetype": "text/x-python",
   "name": "python",
   "nbconvert_exporter": "python",
   "pygments_lexer": "ipython3",
   "version": "3.9.20"
  }
 },
 "nbformat": 4,
 "nbformat_minor": 4
}